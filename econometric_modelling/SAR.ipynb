{
 "cells": [
  {
   "cell_type": "markdown",
   "metadata": {},
   "source": [
    "# Imports"
   ]
  },
  {
   "cell_type": "code",
   "execution_count": 174,
   "metadata": {},
   "outputs": [],
   "source": [
    "import pandas as pd\n",
    "import numpy as np\n",
    "import spreg\n",
    "import libpysal\n",
    "import geopandas as gpd\n",
    "from libpysal.weights import Queen\n",
    "from spreg import ML_Lag"
   ]
  },
  {
   "cell_type": "markdown",
   "metadata": {},
   "source": [
    "# Data"
   ]
  },
  {
   "cell_type": "code",
   "execution_count": 188,
   "metadata": {},
   "outputs": [
    {
     "name": "stderr",
     "output_type": "stream",
     "text": [
      "/tmp/ipykernel_343002/887902822.py:13: SettingWithCopyWarning: \n",
      "A value is trying to be set on a copy of a slice from a DataFrame\n",
      "\n",
      "See the caveats in the documentation: https://pandas.pydata.org/pandas-docs/stable/user_guide/indexing.html#returning-a-view-versus-a-copy\n",
      "  db_train.drop(columns=[\"municipality_code_str\"], inplace=True)\n",
      "/tmp/ipykernel_343002/887902822.py:14: SettingWithCopyWarning: \n",
      "A value is trying to be set on a copy of a slice from a DataFrame\n",
      "\n",
      "See the caveats in the documentation: https://pandas.pydata.org/pandas-docs/stable/user_guide/indexing.html#returning-a-view-versus-a-copy\n",
      "  db_test.drop(columns=[\"municipality_code_str\"], inplace=True)\n"
     ]
    },
    {
     "name": "stdout",
     "output_type": "stream",
     "text": [
      "(2251, 48) (226, 48)\n",
      "(2251, 3) (226, 3)\n"
     ]
    }
   ],
   "source": [
    "# Read in the data\n",
    "# db = libpysal.io.open(\"../_data/shapefile/map_municipalities.dbf\",\"r\")\n",
    "db = pd.read_csv('../_data/data_municipalities_final.csv')\n",
    "db[\"partition_austrian\"] = db[\"partition_austrian\"].astype(int)\n",
    "db[\"partition_prussian\"] = db[\"partition_prussian\"].astype(int)\n",
    "db[\"partition_russian\"] = db[\"partition_russian\"].astype(int)\n",
    "# Train and test datasets (test on Wielkopolskie)\n",
    "db[\"municipality_code_str\"] = db[\"municipality_code\"].astype(str)\n",
    "db.loc[:607, 'municipality_code_str'] = '0' + db.loc[:607, 'municipality_code'].astype(str)\n",
    "db_train = db[db[\"municipality_code_str\"].str[0:2] != \"30\"]\n",
    "db_test = db[db[\"municipality_code_str\"].str[0:2] == \"30\"]\n",
    "# drop\n",
    "db_train.drop(columns=[\"municipality_code_str\"], inplace=True)\n",
    "db_test.drop(columns=[\"municipality_code_str\"], inplace=True)\n",
    "print(db_train.shape, db_test.shape)\n",
    "# Specify the path to the shapefile\n",
    "shapefile_path = '../_data/shapefile/map_municipalities.shp'\n",
    "\n",
    "# Read the shapefile\n",
    "gdf = gpd.read_file(shapefile_path)\n",
    "\n",
    "# Train and test datasets\n",
    "gdf_train = gdf[gdf[\"mncplty_c\"].str[0:2] != \"30\"]\n",
    "gdf_test = gdf[gdf[\"mncplty_c\"].str[0:2] == \"30\"]\n",
    "print(gdf_train.shape, gdf_test.shape)"
   ]
  },
  {
   "cell_type": "markdown",
   "metadata": {},
   "source": [
    "# SAR Model"
   ]
  },
  {
   "cell_type": "markdown",
   "metadata": {},
   "source": [
    "## On train dataset"
   ]
  },
  {
   "cell_type": "code",
   "execution_count": 289,
   "metadata": {},
   "outputs": [
    {
     "name": "stderr",
     "output_type": "stream",
     "text": [
      "/tmp/ipykernel_343002/4018778415.py:2: FutureWarning: `use_index` defaults to False but will default to True in future. Set True/False directly to control this behavior and silence this warning\n",
      "  w = Queen.from_dataframe(gdf_train)\n"
     ]
    },
    {
     "name": "stdout",
     "output_type": "stream",
     "text": [
      "Warning: Latex output not implemented yet. Using standard output instead.\n"
     ]
    }
   ],
   "source": [
    "# Create a spatial weights object\n",
    "w = Queen.from_dataframe(gdf_train)\n",
    "ds_name = \"municipalities_train\"\n",
    "y_name = \"percent_vaccinated_log\"\n",
    "y = db_train[y_name].values\n",
    "y.shape = (len(y),1)\n",
    "x_names = db_train.columns.to_list()\n",
    "x_names.remove(\"percent_vaccinated\")\n",
    "x_names.remove(\"percent_vaccinated_log\")\n",
    "x_names.remove(\"county_code\")\n",
    "x_names.remove(\"county_name\")\n",
    "x_names.remove(\"voivodeship\")\n",
    "x_names.remove(\"municipality_code_old\")\n",
    "x_names.remove(\"municipality_code\")\n",
    "x_names.remove(\"municipality_name\")\n",
    "# General to specific model selection\n",
    "x_names.remove(\"population_total_f\")\n",
    "x_names.remove(\"partition_austrian\")\n",
    "x_names.remove(\"appartments_per_1000_persons\")\n",
    "x_names.remove(\"doctors_per_1000_persons\")\n",
    "x_names.remove(\"average_wage_relative\")\n",
    "x_names.remove(\"revenues_per_capita_CIT\")\n",
    "x_names.remove(\"revenues_per_capita\")\n",
    "x_names.remove(\"population_total\")\n",
    "x_names.remove(\"partition_russian\")\n",
    "x_names.remove(\"population_total_m\")\n",
    "x_names.remove(\"persons_per_library\")\n",
    "x_names.remove(\"KONFEDERACJA_party\")\n",
    "x_names.remove(\"population_per_pharmacy\")\n",
    "x_names.remove(\"population_density\")\n",
    "x_names.remove(\"healthcare_advices\")\n",
    "x_names.remove(\"unemployment_rate_m\")\n",
    "x_names.remove(\"education_share_primary\")\n",
    "x_names.remove(\"education_share_higher\")\n",
    "x_names.remove(\"unemployment_rate\")\n",
    "x_names.remove(\"partition_prussian\")\n",
    "x_names.remove(\"percent_population_below_25\")\n",
    "x_names.remove(\"percent_population_25_60\")\n",
    "x_names.remove(\"area_km2\")\n",
    "x_names.remove(\"education_share_vocational\")\n",
    "x = db_train[x_names].values\n",
    "w_name = \"border_contiguity\"\n",
    "w.transform = 'r'\n",
    "mllag = ML_Lag(y,x,w,name_y=y_name,name_x=x_names,name_w=w_name,name_ds=ds_name,vm=True, latex=True) \n"
   ]
  },
  {
   "cell_type": "code",
   "execution_count": 290,
   "metadata": {},
   "outputs": [
    {
     "name": "stdout",
     "output_type": "stream",
     "text": [
      "REGRESSION RESULTS\n",
      "------------------\n",
      "\n",
      "SUMMARY OF OUTPUT: MAXIMUM LIKELIHOOD SPATIAL LAG (METHOD = FULL)\n",
      "-----------------------------------------------------------------\n",
      "Data set            :municipalities_train\n",
      "Weights matrix      :border_contiguity\n",
      "Dependent Variable  :percent_vaccinated_log                Number of Observations:        2251\n",
      "Mean dependent var  :      0.0650                Number of Variables   :          18\n",
      "S.D. dependent var  :      0.3194                Degrees of Freedom    :        2233\n",
      "Pseudo R-squared    :      0.8244\n",
      "Spatial Pseudo R-squared:  0.6802\n",
      "Log likelihood      :   1233.2233\n",
      "Sigma-square ML     :      0.0179                Akaike info criterion :   -2430.447\n",
      "S.E of regression   :      0.1340                Schwarz criterion     :   -2327.502\n",
      "\n",
      "------------------------------------------------------------------------------------\n",
      "            Variable     Coefficient       Std.Error     z-Statistic     Probability\n",
      "------------------------------------------------------------------------------------\n",
      "            CONSTANT        -1.43940         0.09835       -14.63548         0.00000\n",
      "   urbanization_rate         0.00096         0.00012         7.78270         0.00000\n",
      "installations_network_gas        -0.00064         0.00012        -5.56939         0.00000\n",
      "library_readers_per_1000_persons         0.00014         0.00006         2.28576         0.02227\n",
      "        forests_area        -0.00002         0.00000        -6.31353         0.00000\n",
      " unemployment_rate_f         0.00359         0.00105         3.41772         0.00063\n",
      "revenues_per_capita_PIT         0.00008         0.00001         5.62662         0.00000\n",
      "  net_scholarization         0.00147         0.00025         5.80586         0.00000\n",
      "education_share_secondary        -0.00452         0.00151        -3.00340         0.00267\n",
      "tourits_per_1000_persons        -0.00001         0.00000        -4.13963         0.00003\n",
      "percent_population_over_60         0.01793         0.00143        12.49638         0.00000\n",
      "   election_presence         0.00888         0.00076        11.61649         0.00000\n",
      "percent_invalid_votes         0.02450         0.00667         3.67399         0.00024\n",
      "           PIS_party         0.00398         0.00093         4.27930         0.00002\n",
      "            KO_party         0.00893         0.00106         8.41675         0.00000\n",
      "           PSL_party         0.01160         0.00100        11.55312         0.00000\n",
      "           SLD_party         0.01074         0.00139         7.73623         0.00000\n",
      "W_percent_vaccinated_log         0.62886         0.01427        44.05922         0.00000\n",
      "------------------------------------------------------------------------------------\n",
      "\n",
      "COEFFICIENTS VARIANCE MATRIX\n",
      "----------------------------\n",
      "    CONSTANTurbanization_rateinstallations_network_gaslibrary_readers_per_1000_personsforests_areaunemployment_rate_frevenues_per_capita_PITnet_scholarizationeducation_share_secondarytourits_per_1000_personspercent_population_over_60election_presencepercent_invalid_votes   PIS_party    KO_party   PSL_party   SLD_partyW_percent_vaccinated_log\n",
      "    0.009673    0.000001    0.000001   -0.000000    0.000000   -0.000001   -0.000000   -0.000005   -0.000059    0.000000   -0.000004   -0.000015   -0.000193   -0.000063   -0.000075   -0.000062   -0.000066    0.000337\n",
      "    0.000001    0.000000   -0.000000   -0.000000    0.000000   -0.000000   -0.000000   -0.000000    0.000000    0.000000   -0.000000    0.000000    0.000000    0.000000   -0.000000   -0.000000   -0.000000    0.000000\n",
      "    0.000001   -0.000000    0.000000   -0.000000    0.000000   -0.000000   -0.000000    0.000000   -0.000000    0.000000    0.000000   -0.000000    0.000000   -0.000000   -0.000000    0.000000   -0.000000    0.000000\n",
      "   -0.000000   -0.000000   -0.000000    0.000000    0.000000   -0.000000   -0.000000   -0.000000    0.000000   -0.000000   -0.000000   -0.000000   -0.000000    0.000000    0.000000    0.000000    0.000000    0.000000\n",
      "    0.000000    0.000000    0.000000    0.000000    0.000000    0.000000   -0.000000    0.000000    0.000000   -0.000000   -0.000000   -0.000000    0.000000   -0.000000   -0.000000   -0.000000    0.000000    0.000000\n",
      "   -0.000001   -0.000000   -0.000000   -0.000000    0.000000    0.000001    0.000000    0.000000    0.000000    0.000000   -0.000000    0.000000   -0.000001   -0.000000   -0.000000   -0.000000   -0.000000    0.000001\n",
      "   -0.000000   -0.000000   -0.000000   -0.000000   -0.000000    0.000000    0.000000   -0.000000   -0.000000    0.000000    0.000000   -0.000000    0.000000    0.000000    0.000000    0.000000   -0.000000   -0.000000\n",
      "   -0.000005   -0.000000    0.000000   -0.000000    0.000000    0.000000   -0.000000    0.000000    0.000000    0.000000   -0.000000   -0.000000   -0.000000    0.000000    0.000000    0.000000    0.000000    0.000000\n",
      "   -0.000059    0.000000   -0.000000    0.000000    0.000000    0.000000   -0.000000    0.000000    0.000002   -0.000000   -0.000001   -0.000000   -0.000000   -0.000000   -0.000000   -0.000000   -0.000000   -0.000001\n",
      "    0.000000    0.000000    0.000000   -0.000000   -0.000000    0.000000    0.000000    0.000000   -0.000000    0.000000   -0.000000   -0.000000   -0.000000   -0.000000   -0.000000   -0.000000   -0.000000    0.000000\n",
      "   -0.000004   -0.000000    0.000000   -0.000000   -0.000000   -0.000000    0.000000   -0.000000   -0.000001   -0.000000    0.000002    0.000000    0.000002   -0.000000   -0.000000   -0.000000   -0.000000   -0.000003\n",
      "   -0.000015    0.000000   -0.000000   -0.000000   -0.000000    0.000000   -0.000000   -0.000000   -0.000000   -0.000000    0.000000    0.000001    0.000002   -0.000000   -0.000000   -0.000000   -0.000000   -0.000003\n",
      "   -0.000193    0.000000    0.000000   -0.000000    0.000000   -0.000001    0.000000   -0.000000   -0.000000   -0.000000    0.000002    0.000002    0.000044    0.000000    0.000000   -0.000000   -0.000000   -0.000014\n",
      "   -0.000063    0.000000   -0.000000    0.000000   -0.000000   -0.000000    0.000000    0.000000   -0.000000   -0.000000   -0.000000   -0.000000    0.000000    0.000001    0.000001    0.000001    0.000001   -0.000000\n",
      "   -0.000075   -0.000000   -0.000000    0.000000   -0.000000   -0.000000    0.000000    0.000000   -0.000000   -0.000000   -0.000000   -0.000000    0.000000    0.000001    0.000001    0.000001    0.000001   -0.000002\n",
      "   -0.000062   -0.000000    0.000000    0.000000   -0.000000   -0.000000    0.000000    0.000000   -0.000000   -0.000000   -0.000000   -0.000000   -0.000000    0.000001    0.000001    0.000001    0.000001   -0.000002\n",
      "   -0.000066   -0.000000   -0.000000    0.000000    0.000000   -0.000000   -0.000000    0.000000   -0.000000   -0.000000   -0.000000   -0.000000   -0.000000    0.000001    0.000001    0.000001    0.000002   -0.000004\n",
      "    0.000337    0.000000    0.000000    0.000000    0.000000    0.000001   -0.000000    0.000000   -0.000001    0.000000   -0.000003   -0.000003   -0.000014   -0.000000   -0.000002   -0.000002   -0.000004    0.000204\n",
      "================================ END OF REPORT =====================================\n"
     ]
    }
   ],
   "source": [
    "print(mllag.summary)"
   ]
  },
  {
   "cell_type": "markdown",
   "metadata": {},
   "source": [
    "### RMSE in-sample"
   ]
  },
  {
   "cell_type": "code",
   "execution_count": 272,
   "metadata": {},
   "outputs": [
    {
     "name": "stdout",
     "output_type": "stream",
     "text": [
      "0.13222419593118737\n"
     ]
    }
   ],
   "source": [
    "y_name = \"percent_vaccinated_log\"\n",
    "y = db_train[y_name].values\n",
    "rmse = np.sqrt(np.sum((y - mllag.predy)**2)/len(y))\n",
    "print(rmse)"
   ]
  },
  {
   "cell_type": "markdown",
   "metadata": {},
   "source": [
    "## On test dataset"
   ]
  },
  {
   "cell_type": "code",
   "execution_count": null,
   "metadata": {},
   "outputs": [],
   "source": [
    "# firguring out betas and rho\n",
    "# first beta is intercept\n",
    "# last beta is rho\n",
    "mllag.betas, mllag.rho"
   ]
  },
  {
   "cell_type": "code",
   "execution_count": 236,
   "metadata": {},
   "outputs": [
    {
     "name": "stdout",
     "output_type": "stream",
     "text": [
      "3.6441942048498843\n"
     ]
    },
    {
     "name": "stderr",
     "output_type": "stream",
     "text": [
      "/tmp/ipykernel_343002/895585023.py:5: FutureWarning: `use_index` defaults to False but will default to True in future. Set True/False directly to control this behavior and silence this warning\n",
      "  w = Queen.from_dataframe(gdf_test)\n"
     ]
    }
   ],
   "source": [
    "# Predict on the test dataset\n",
    "# Prepare y_test\n",
    "y_test = db_test[\"percent_vaccinated_log\"].values\n",
    "# Create a spatial weights object\n",
    "w = Queen.from_dataframe(gdf_test)\n",
    "# Calcualte Wy\n",
    "w_array = w.to_sparse().toarray()\n",
    "row_sums = w_array.sum(axis=1)\n",
    "w_array_normalized = w_array / row_sums[:, np.newaxis]\n",
    "Wy = np.dot(w_array_normalized, y_test)\n",
    "# Calculate y_pred\n",
    "y_pred = mllag.betas[0] + np.dot(db_test[x_names].values,mllag.betas[1:-1]) + mllag.betas[-1]*Wy\n",
    "# Calculate RMSE\n",
    "rmse = np.sqrt(np.sum((y_test - y_pred)**2)/len(y_test))\n",
    "print(rmse)"
   ]
  },
  {
   "cell_type": "markdown",
   "metadata": {},
   "source": [
    "## leave one out for other voivoidships"
   ]
  },
  {
   "cell_type": "code",
   "execution_count": 346,
   "metadata": {},
   "outputs": [
    {
     "name": "stdout",
     "output_type": "stream",
     "text": [
      "current voivodeship: 02\n",
      "db (2308, 48) (169, 48)\n",
      "gdf (2308, 3) (169, 3)\n"
     ]
    },
    {
     "name": "stderr",
     "output_type": "stream",
     "text": [
      "/tmp/ipykernel_343002/1113939114.py:44: SettingWithCopyWarning: \n",
      "A value is trying to be set on a copy of a slice from a DataFrame\n",
      "\n",
      "See the caveats in the documentation: https://pandas.pydata.org/pandas-docs/stable/user_guide/indexing.html#returning-a-view-versus-a-copy\n",
      "  db_train.drop(columns=[\"municipality_code_str\"], inplace=True)\n",
      "/tmp/ipykernel_343002/1113939114.py:45: SettingWithCopyWarning: \n",
      "A value is trying to be set on a copy of a slice from a DataFrame\n",
      "\n",
      "See the caveats in the documentation: https://pandas.pydata.org/pandas-docs/stable/user_guide/indexing.html#returning-a-view-versus-a-copy\n",
      "  db_test.drop(columns=[\"municipality_code_str\"], inplace=True)\n",
      "/tmp/ipykernel_343002/1113939114.py:54: FutureWarning: `use_index` defaults to False but will default to True in future. Set True/False directly to control this behavior and silence this warning\n",
      "  w = Queen.from_dataframe(gdf_train)\n"
     ]
    },
    {
     "name": "stdout",
     "output_type": "stream",
     "text": [
      "Warning: Latex output not implemented yet. Using standard output instead.\n",
      "current voivodeship: 04\n",
      "db (2333, 48) (144, 48)\n",
      "gdf (2333, 3) (144, 3)\n"
     ]
    },
    {
     "name": "stderr",
     "output_type": "stream",
     "text": [
      "/tmp/ipykernel_343002/1113939114.py:74: FutureWarning: `use_index` defaults to False but will default to True in future. Set True/False directly to control this behavior and silence this warning\n",
      "  w = Queen.from_dataframe(gdf_test)\n",
      "/tmp/ipykernel_343002/1113939114.py:44: SettingWithCopyWarning: \n",
      "A value is trying to be set on a copy of a slice from a DataFrame\n",
      "\n",
      "See the caveats in the documentation: https://pandas.pydata.org/pandas-docs/stable/user_guide/indexing.html#returning-a-view-versus-a-copy\n",
      "  db_train.drop(columns=[\"municipality_code_str\"], inplace=True)\n",
      "/tmp/ipykernel_343002/1113939114.py:45: SettingWithCopyWarning: \n",
      "A value is trying to be set on a copy of a slice from a DataFrame\n",
      "\n",
      "See the caveats in the documentation: https://pandas.pydata.org/pandas-docs/stable/user_guide/indexing.html#returning-a-view-versus-a-copy\n",
      "  db_test.drop(columns=[\"municipality_code_str\"], inplace=True)\n",
      "/tmp/ipykernel_343002/1113939114.py:54: FutureWarning: `use_index` defaults to False but will default to True in future. Set True/False directly to control this behavior and silence this warning\n",
      "  w = Queen.from_dataframe(gdf_train)\n"
     ]
    },
    {
     "name": "stdout",
     "output_type": "stream",
     "text": [
      "Warning: Latex output not implemented yet. Using standard output instead.\n"
     ]
    },
    {
     "name": "stderr",
     "output_type": "stream",
     "text": [
      "/tmp/ipykernel_343002/1113939114.py:74: FutureWarning: `use_index` defaults to False but will default to True in future. Set True/False directly to control this behavior and silence this warning\n",
      "  w = Queen.from_dataframe(gdf_test)\n"
     ]
    },
    {
     "name": "stdout",
     "output_type": "stream",
     "text": [
      "current voivodeship: 06\n",
      "db (2264, 48) (213, 48)\n",
      "gdf (2264, 3) (213, 3)\n"
     ]
    },
    {
     "name": "stderr",
     "output_type": "stream",
     "text": [
      "/tmp/ipykernel_343002/1113939114.py:44: SettingWithCopyWarning: \n",
      "A value is trying to be set on a copy of a slice from a DataFrame\n",
      "\n",
      "See the caveats in the documentation: https://pandas.pydata.org/pandas-docs/stable/user_guide/indexing.html#returning-a-view-versus-a-copy\n",
      "  db_train.drop(columns=[\"municipality_code_str\"], inplace=True)\n",
      "/tmp/ipykernel_343002/1113939114.py:45: SettingWithCopyWarning: \n",
      "A value is trying to be set on a copy of a slice from a DataFrame\n",
      "\n",
      "See the caveats in the documentation: https://pandas.pydata.org/pandas-docs/stable/user_guide/indexing.html#returning-a-view-versus-a-copy\n",
      "  db_test.drop(columns=[\"municipality_code_str\"], inplace=True)\n",
      "/tmp/ipykernel_343002/1113939114.py:54: FutureWarning: `use_index` defaults to False but will default to True in future. Set True/False directly to control this behavior and silence this warning\n",
      "  w = Queen.from_dataframe(gdf_train)\n"
     ]
    },
    {
     "name": "stdout",
     "output_type": "stream",
     "text": [
      "Warning: Latex output not implemented yet. Using standard output instead.\n",
      "current voivodeship: 08\n",
      "db (2395, 48) (82, 48)\n",
      "gdf (2395, 3) (82, 3)\n"
     ]
    },
    {
     "name": "stderr",
     "output_type": "stream",
     "text": [
      "/tmp/ipykernel_343002/1113939114.py:74: FutureWarning: `use_index` defaults to False but will default to True in future. Set True/False directly to control this behavior and silence this warning\n",
      "  w = Queen.from_dataframe(gdf_test)\n",
      "/tmp/ipykernel_343002/1113939114.py:44: SettingWithCopyWarning: \n",
      "A value is trying to be set on a copy of a slice from a DataFrame\n",
      "\n",
      "See the caveats in the documentation: https://pandas.pydata.org/pandas-docs/stable/user_guide/indexing.html#returning-a-view-versus-a-copy\n",
      "  db_train.drop(columns=[\"municipality_code_str\"], inplace=True)\n",
      "/tmp/ipykernel_343002/1113939114.py:45: SettingWithCopyWarning: \n",
      "A value is trying to be set on a copy of a slice from a DataFrame\n",
      "\n",
      "See the caveats in the documentation: https://pandas.pydata.org/pandas-docs/stable/user_guide/indexing.html#returning-a-view-versus-a-copy\n",
      "  db_test.drop(columns=[\"municipality_code_str\"], inplace=True)\n",
      "/tmp/ipykernel_343002/1113939114.py:54: FutureWarning: `use_index` defaults to False but will default to True in future. Set True/False directly to control this behavior and silence this warning\n",
      "  w = Queen.from_dataframe(gdf_train)\n"
     ]
    },
    {
     "name": "stdout",
     "output_type": "stream",
     "text": [
      "Warning: Latex output not implemented yet. Using standard output instead.\n",
      "current voivodeship: 10\n",
      "db (2300, 48) (177, 48)\n",
      "gdf (2300, 3) (177, 3)\n"
     ]
    },
    {
     "name": "stderr",
     "output_type": "stream",
     "text": [
      "/tmp/ipykernel_343002/1113939114.py:74: FutureWarning: `use_index` defaults to False but will default to True in future. Set True/False directly to control this behavior and silence this warning\n",
      "  w = Queen.from_dataframe(gdf_test)\n",
      "/tmp/ipykernel_343002/1113939114.py:44: SettingWithCopyWarning: \n",
      "A value is trying to be set on a copy of a slice from a DataFrame\n",
      "\n",
      "See the caveats in the documentation: https://pandas.pydata.org/pandas-docs/stable/user_guide/indexing.html#returning-a-view-versus-a-copy\n",
      "  db_train.drop(columns=[\"municipality_code_str\"], inplace=True)\n",
      "/tmp/ipykernel_343002/1113939114.py:45: SettingWithCopyWarning: \n",
      "A value is trying to be set on a copy of a slice from a DataFrame\n",
      "\n",
      "See the caveats in the documentation: https://pandas.pydata.org/pandas-docs/stable/user_guide/indexing.html#returning-a-view-versus-a-copy\n",
      "  db_test.drop(columns=[\"municipality_code_str\"], inplace=True)\n",
      "/tmp/ipykernel_343002/1113939114.py:54: FutureWarning: `use_index` defaults to False but will default to True in future. Set True/False directly to control this behavior and silence this warning\n",
      "  w = Queen.from_dataframe(gdf_train)\n"
     ]
    },
    {
     "name": "stdout",
     "output_type": "stream",
     "text": [
      "Warning: Latex output not implemented yet. Using standard output instead.\n",
      "current voivodeship: 12\n",
      "db (2295, 48) (182, 48)\n",
      "gdf (2295, 3) (182, 3)\n"
     ]
    },
    {
     "name": "stderr",
     "output_type": "stream",
     "text": [
      "/tmp/ipykernel_343002/1113939114.py:74: FutureWarning: `use_index` defaults to False but will default to True in future. Set True/False directly to control this behavior and silence this warning\n",
      "  w = Queen.from_dataframe(gdf_test)\n",
      "/tmp/ipykernel_343002/1113939114.py:44: SettingWithCopyWarning: \n",
      "A value is trying to be set on a copy of a slice from a DataFrame\n",
      "\n",
      "See the caveats in the documentation: https://pandas.pydata.org/pandas-docs/stable/user_guide/indexing.html#returning-a-view-versus-a-copy\n",
      "  db_train.drop(columns=[\"municipality_code_str\"], inplace=True)\n",
      "/tmp/ipykernel_343002/1113939114.py:45: SettingWithCopyWarning: \n",
      "A value is trying to be set on a copy of a slice from a DataFrame\n",
      "\n",
      "See the caveats in the documentation: https://pandas.pydata.org/pandas-docs/stable/user_guide/indexing.html#returning-a-view-versus-a-copy\n",
      "  db_test.drop(columns=[\"municipality_code_str\"], inplace=True)\n",
      "/tmp/ipykernel_343002/1113939114.py:54: FutureWarning: `use_index` defaults to False but will default to True in future. Set True/False directly to control this behavior and silence this warning\n",
      "  w = Queen.from_dataframe(gdf_train)\n"
     ]
    },
    {
     "name": "stdout",
     "output_type": "stream",
     "text": [
      "Warning: Latex output not implemented yet. Using standard output instead.\n",
      "current voivodeship: 14\n",
      "db (2163, 48) (314, 48)\n",
      "gdf (2163, 3) (314, 3)\n"
     ]
    },
    {
     "name": "stderr",
     "output_type": "stream",
     "text": [
      "/tmp/ipykernel_343002/1113939114.py:74: FutureWarning: `use_index` defaults to False but will default to True in future. Set True/False directly to control this behavior and silence this warning\n",
      "  w = Queen.from_dataframe(gdf_test)\n",
      "/tmp/ipykernel_343002/1113939114.py:44: SettingWithCopyWarning: \n",
      "A value is trying to be set on a copy of a slice from a DataFrame\n",
      "\n",
      "See the caveats in the documentation: https://pandas.pydata.org/pandas-docs/stable/user_guide/indexing.html#returning-a-view-versus-a-copy\n",
      "  db_train.drop(columns=[\"municipality_code_str\"], inplace=True)\n",
      "/tmp/ipykernel_343002/1113939114.py:45: SettingWithCopyWarning: \n",
      "A value is trying to be set on a copy of a slice from a DataFrame\n",
      "\n",
      "See the caveats in the documentation: https://pandas.pydata.org/pandas-docs/stable/user_guide/indexing.html#returning-a-view-versus-a-copy\n",
      "  db_test.drop(columns=[\"municipality_code_str\"], inplace=True)\n",
      "/tmp/ipykernel_343002/1113939114.py:54: FutureWarning: `use_index` defaults to False but will default to True in future. Set True/False directly to control this behavior and silence this warning\n",
      "  w = Queen.from_dataframe(gdf_train)\n"
     ]
    },
    {
     "name": "stdout",
     "output_type": "stream",
     "text": [
      "Warning: Latex output not implemented yet. Using standard output instead.\n",
      "current voivodeship: 16\n",
      "db (2406, 48) (71, 48)\n",
      "gdf (2406, 3) (71, 3)\n"
     ]
    },
    {
     "name": "stderr",
     "output_type": "stream",
     "text": [
      "/tmp/ipykernel_343002/1113939114.py:74: FutureWarning: `use_index` defaults to False but will default to True in future. Set True/False directly to control this behavior and silence this warning\n",
      "  w = Queen.from_dataframe(gdf_test)\n",
      "/tmp/ipykernel_343002/1113939114.py:44: SettingWithCopyWarning: \n",
      "A value is trying to be set on a copy of a slice from a DataFrame\n",
      "\n",
      "See the caveats in the documentation: https://pandas.pydata.org/pandas-docs/stable/user_guide/indexing.html#returning-a-view-versus-a-copy\n",
      "  db_train.drop(columns=[\"municipality_code_str\"], inplace=True)\n",
      "/tmp/ipykernel_343002/1113939114.py:45: SettingWithCopyWarning: \n",
      "A value is trying to be set on a copy of a slice from a DataFrame\n",
      "\n",
      "See the caveats in the documentation: https://pandas.pydata.org/pandas-docs/stable/user_guide/indexing.html#returning-a-view-versus-a-copy\n",
      "  db_test.drop(columns=[\"municipality_code_str\"], inplace=True)\n",
      "/tmp/ipykernel_343002/1113939114.py:54: FutureWarning: `use_index` defaults to False but will default to True in future. Set True/False directly to control this behavior and silence this warning\n",
      "  w = Queen.from_dataframe(gdf_train)\n"
     ]
    },
    {
     "name": "stdout",
     "output_type": "stream",
     "text": [
      "Warning: Latex output not implemented yet. Using standard output instead.\n",
      "current voivodeship: 18\n",
      "db (2317, 48) (160, 48)\n",
      "gdf (2317, 3) (160, 3)\n"
     ]
    },
    {
     "name": "stderr",
     "output_type": "stream",
     "text": [
      "/tmp/ipykernel_343002/1113939114.py:74: FutureWarning: `use_index` defaults to False but will default to True in future. Set True/False directly to control this behavior and silence this warning\n",
      "  w = Queen.from_dataframe(gdf_test)\n",
      "/tmp/ipykernel_343002/1113939114.py:44: SettingWithCopyWarning: \n",
      "A value is trying to be set on a copy of a slice from a DataFrame\n",
      "\n",
      "See the caveats in the documentation: https://pandas.pydata.org/pandas-docs/stable/user_guide/indexing.html#returning-a-view-versus-a-copy\n",
      "  db_train.drop(columns=[\"municipality_code_str\"], inplace=True)\n",
      "/tmp/ipykernel_343002/1113939114.py:45: SettingWithCopyWarning: \n",
      "A value is trying to be set on a copy of a slice from a DataFrame\n",
      "\n",
      "See the caveats in the documentation: https://pandas.pydata.org/pandas-docs/stable/user_guide/indexing.html#returning-a-view-versus-a-copy\n",
      "  db_test.drop(columns=[\"municipality_code_str\"], inplace=True)\n",
      "/tmp/ipykernel_343002/1113939114.py:54: FutureWarning: `use_index` defaults to False but will default to True in future. Set True/False directly to control this behavior and silence this warning\n",
      "  w = Queen.from_dataframe(gdf_train)\n"
     ]
    },
    {
     "name": "stdout",
     "output_type": "stream",
     "text": [
      "Warning: Latex output not implemented yet. Using standard output instead.\n",
      "current voivodeship: 20\n",
      "db (2359, 48) (118, 48)\n",
      "gdf (2359, 3) (118, 3)\n"
     ]
    },
    {
     "name": "stderr",
     "output_type": "stream",
     "text": [
      "/tmp/ipykernel_343002/1113939114.py:74: FutureWarning: `use_index` defaults to False but will default to True in future. Set True/False directly to control this behavior and silence this warning\n",
      "  w = Queen.from_dataframe(gdf_test)\n",
      "/tmp/ipykernel_343002/1113939114.py:44: SettingWithCopyWarning: \n",
      "A value is trying to be set on a copy of a slice from a DataFrame\n",
      "\n",
      "See the caveats in the documentation: https://pandas.pydata.org/pandas-docs/stable/user_guide/indexing.html#returning-a-view-versus-a-copy\n",
      "  db_train.drop(columns=[\"municipality_code_str\"], inplace=True)\n",
      "/tmp/ipykernel_343002/1113939114.py:45: SettingWithCopyWarning: \n",
      "A value is trying to be set on a copy of a slice from a DataFrame\n",
      "\n",
      "See the caveats in the documentation: https://pandas.pydata.org/pandas-docs/stable/user_guide/indexing.html#returning-a-view-versus-a-copy\n",
      "  db_test.drop(columns=[\"municipality_code_str\"], inplace=True)\n",
      "/tmp/ipykernel_343002/1113939114.py:54: FutureWarning: `use_index` defaults to False but will default to True in future. Set True/False directly to control this behavior and silence this warning\n",
      "  w = Queen.from_dataframe(gdf_train)\n"
     ]
    },
    {
     "name": "stdout",
     "output_type": "stream",
     "text": [
      "Warning: Latex output not implemented yet. Using standard output instead.\n",
      "current voivodeship: 22\n",
      "db (2354, 48) (123, 48)\n",
      "gdf (2354, 3) (123, 3)\n"
     ]
    },
    {
     "name": "stderr",
     "output_type": "stream",
     "text": [
      "/tmp/ipykernel_343002/1113939114.py:74: FutureWarning: `use_index` defaults to False but will default to True in future. Set True/False directly to control this behavior and silence this warning\n",
      "  w = Queen.from_dataframe(gdf_test)\n",
      "/tmp/ipykernel_343002/1113939114.py:44: SettingWithCopyWarning: \n",
      "A value is trying to be set on a copy of a slice from a DataFrame\n",
      "\n",
      "See the caveats in the documentation: https://pandas.pydata.org/pandas-docs/stable/user_guide/indexing.html#returning-a-view-versus-a-copy\n",
      "  db_train.drop(columns=[\"municipality_code_str\"], inplace=True)\n",
      "/tmp/ipykernel_343002/1113939114.py:45: SettingWithCopyWarning: \n",
      "A value is trying to be set on a copy of a slice from a DataFrame\n",
      "\n",
      "See the caveats in the documentation: https://pandas.pydata.org/pandas-docs/stable/user_guide/indexing.html#returning-a-view-versus-a-copy\n",
      "  db_test.drop(columns=[\"municipality_code_str\"], inplace=True)\n",
      "/tmp/ipykernel_343002/1113939114.py:54: FutureWarning: `use_index` defaults to False but will default to True in future. Set True/False directly to control this behavior and silence this warning\n",
      "  w = Queen.from_dataframe(gdf_train)\n"
     ]
    },
    {
     "name": "stdout",
     "output_type": "stream",
     "text": [
      "Warning: Latex output not implemented yet. Using standard output instead.\n",
      "current voivodeship: 24\n",
      "db (2310, 48) (167, 48)\n",
      "gdf (2310, 3) (167, 3)\n"
     ]
    },
    {
     "name": "stderr",
     "output_type": "stream",
     "text": [
      "/tmp/ipykernel_343002/1113939114.py:74: FutureWarning: `use_index` defaults to False but will default to True in future. Set True/False directly to control this behavior and silence this warning\n",
      "  w = Queen.from_dataframe(gdf_test)\n",
      "/tmp/ipykernel_343002/1113939114.py:44: SettingWithCopyWarning: \n",
      "A value is trying to be set on a copy of a slice from a DataFrame\n",
      "\n",
      "See the caveats in the documentation: https://pandas.pydata.org/pandas-docs/stable/user_guide/indexing.html#returning-a-view-versus-a-copy\n",
      "  db_train.drop(columns=[\"municipality_code_str\"], inplace=True)\n",
      "/tmp/ipykernel_343002/1113939114.py:45: SettingWithCopyWarning: \n",
      "A value is trying to be set on a copy of a slice from a DataFrame\n",
      "\n",
      "See the caveats in the documentation: https://pandas.pydata.org/pandas-docs/stable/user_guide/indexing.html#returning-a-view-versus-a-copy\n",
      "  db_test.drop(columns=[\"municipality_code_str\"], inplace=True)\n",
      "/tmp/ipykernel_343002/1113939114.py:54: FutureWarning: `use_index` defaults to False but will default to True in future. Set True/False directly to control this behavior and silence this warning\n",
      "  w = Queen.from_dataframe(gdf_train)\n"
     ]
    },
    {
     "name": "stdout",
     "output_type": "stream",
     "text": [
      "Warning: Latex output not implemented yet. Using standard output instead.\n",
      "current voivodeship: 26\n",
      "db (2375, 48) (102, 48)\n",
      "gdf (2375, 3) (102, 3)\n"
     ]
    },
    {
     "name": "stderr",
     "output_type": "stream",
     "text": [
      "/tmp/ipykernel_343002/1113939114.py:74: FutureWarning: `use_index` defaults to False but will default to True in future. Set True/False directly to control this behavior and silence this warning\n",
      "  w = Queen.from_dataframe(gdf_test)\n",
      "/tmp/ipykernel_343002/1113939114.py:44: SettingWithCopyWarning: \n",
      "A value is trying to be set on a copy of a slice from a DataFrame\n",
      "\n",
      "See the caveats in the documentation: https://pandas.pydata.org/pandas-docs/stable/user_guide/indexing.html#returning-a-view-versus-a-copy\n",
      "  db_train.drop(columns=[\"municipality_code_str\"], inplace=True)\n",
      "/tmp/ipykernel_343002/1113939114.py:45: SettingWithCopyWarning: \n",
      "A value is trying to be set on a copy of a slice from a DataFrame\n",
      "\n",
      "See the caveats in the documentation: https://pandas.pydata.org/pandas-docs/stable/user_guide/indexing.html#returning-a-view-versus-a-copy\n",
      "  db_test.drop(columns=[\"municipality_code_str\"], inplace=True)\n",
      "/tmp/ipykernel_343002/1113939114.py:54: FutureWarning: `use_index` defaults to False but will default to True in future. Set True/False directly to control this behavior and silence this warning\n",
      "  w = Queen.from_dataframe(gdf_train)\n"
     ]
    },
    {
     "name": "stdout",
     "output_type": "stream",
     "text": [
      "Warning: Latex output not implemented yet. Using standard output instead.\n",
      "current voivodeship: 28\n",
      "db (2361, 48) (116, 48)\n",
      "gdf (2361, 3) (116, 3)\n"
     ]
    },
    {
     "name": "stderr",
     "output_type": "stream",
     "text": [
      "/tmp/ipykernel_343002/1113939114.py:74: FutureWarning: `use_index` defaults to False but will default to True in future. Set True/False directly to control this behavior and silence this warning\n",
      "  w = Queen.from_dataframe(gdf_test)\n",
      "/tmp/ipykernel_343002/1113939114.py:44: SettingWithCopyWarning: \n",
      "A value is trying to be set on a copy of a slice from a DataFrame\n",
      "\n",
      "See the caveats in the documentation: https://pandas.pydata.org/pandas-docs/stable/user_guide/indexing.html#returning-a-view-versus-a-copy\n",
      "  db_train.drop(columns=[\"municipality_code_str\"], inplace=True)\n",
      "/tmp/ipykernel_343002/1113939114.py:45: SettingWithCopyWarning: \n",
      "A value is trying to be set on a copy of a slice from a DataFrame\n",
      "\n",
      "See the caveats in the documentation: https://pandas.pydata.org/pandas-docs/stable/user_guide/indexing.html#returning-a-view-versus-a-copy\n",
      "  db_test.drop(columns=[\"municipality_code_str\"], inplace=True)\n",
      "/tmp/ipykernel_343002/1113939114.py:54: FutureWarning: `use_index` defaults to False but will default to True in future. Set True/False directly to control this behavior and silence this warning\n",
      "  w = Queen.from_dataframe(gdf_train)\n"
     ]
    },
    {
     "name": "stdout",
     "output_type": "stream",
     "text": [
      "Warning: Latex output not implemented yet. Using standard output instead.\n",
      "current voivodeship: 30\n",
      "db (2251, 48) (226, 48)\n",
      "gdf (2251, 3) (226, 3)\n"
     ]
    },
    {
     "name": "stderr",
     "output_type": "stream",
     "text": [
      "/tmp/ipykernel_343002/1113939114.py:74: FutureWarning: `use_index` defaults to False but will default to True in future. Set True/False directly to control this behavior and silence this warning\n",
      "  w = Queen.from_dataframe(gdf_test)\n",
      "/tmp/ipykernel_343002/1113939114.py:44: SettingWithCopyWarning: \n",
      "A value is trying to be set on a copy of a slice from a DataFrame\n",
      "\n",
      "See the caveats in the documentation: https://pandas.pydata.org/pandas-docs/stable/user_guide/indexing.html#returning-a-view-versus-a-copy\n",
      "  db_train.drop(columns=[\"municipality_code_str\"], inplace=True)\n",
      "/tmp/ipykernel_343002/1113939114.py:45: SettingWithCopyWarning: \n",
      "A value is trying to be set on a copy of a slice from a DataFrame\n",
      "\n",
      "See the caveats in the documentation: https://pandas.pydata.org/pandas-docs/stable/user_guide/indexing.html#returning-a-view-versus-a-copy\n",
      "  db_test.drop(columns=[\"municipality_code_str\"], inplace=True)\n",
      "/tmp/ipykernel_343002/1113939114.py:54: FutureWarning: `use_index` defaults to False but will default to True in future. Set True/False directly to control this behavior and silence this warning\n",
      "  w = Queen.from_dataframe(gdf_train)\n"
     ]
    },
    {
     "name": "stdout",
     "output_type": "stream",
     "text": [
      "Warning: Latex output not implemented yet. Using standard output instead.\n",
      "current voivodeship: 32\n",
      "db (2364, 48) (113, 48)\n",
      "gdf (2364, 3) (113, 3)\n"
     ]
    },
    {
     "name": "stderr",
     "output_type": "stream",
     "text": [
      "/tmp/ipykernel_343002/1113939114.py:74: FutureWarning: `use_index` defaults to False but will default to True in future. Set True/False directly to control this behavior and silence this warning\n",
      "  w = Queen.from_dataframe(gdf_test)\n",
      "/tmp/ipykernel_343002/1113939114.py:44: SettingWithCopyWarning: \n",
      "A value is trying to be set on a copy of a slice from a DataFrame\n",
      "\n",
      "See the caveats in the documentation: https://pandas.pydata.org/pandas-docs/stable/user_guide/indexing.html#returning-a-view-versus-a-copy\n",
      "  db_train.drop(columns=[\"municipality_code_str\"], inplace=True)\n",
      "/tmp/ipykernel_343002/1113939114.py:45: SettingWithCopyWarning: \n",
      "A value is trying to be set on a copy of a slice from a DataFrame\n",
      "\n",
      "See the caveats in the documentation: https://pandas.pydata.org/pandas-docs/stable/user_guide/indexing.html#returning-a-view-versus-a-copy\n",
      "  db_test.drop(columns=[\"municipality_code_str\"], inplace=True)\n",
      "/tmp/ipykernel_343002/1113939114.py:54: FutureWarning: `use_index` defaults to False but will default to True in future. Set True/False directly to control this behavior and silence this warning\n",
      "  w = Queen.from_dataframe(gdf_train)\n"
     ]
    },
    {
     "name": "stdout",
     "output_type": "stream",
     "text": [
      "Warning: Latex output not implemented yet. Using standard output instead.\n"
     ]
    },
    {
     "name": "stderr",
     "output_type": "stream",
     "text": [
      "/tmp/ipykernel_343002/1113939114.py:74: FutureWarning: `use_index` defaults to False but will default to True in future. Set True/False directly to control this behavior and silence this warning\n",
      "  w = Queen.from_dataframe(gdf_test)\n"
     ]
    }
   ],
   "source": [
    "# Read in the data\n",
    "# db = libpysal.io.open(\"../_data/shapefile/map_municipalities.dbf\",\"r\")\n",
    "db = pd.read_csv('../_data/data_municipalities_final.csv')\n",
    "db[\"partition_austrian\"] = db[\"partition_austrian\"].astype(int)\n",
    "db[\"partition_prussian\"] = db[\"partition_prussian\"].astype(int)\n",
    "db[\"partition_russian\"] = db[\"partition_russian\"].astype(int)\n",
    "db[\"municipality_code_str\"] = db[\"municipality_code\"].astype(str)\n",
    "db.loc[:607, 'municipality_code_str'] = '0' + db.loc[:607, 'municipality_code'].astype(str)\n",
    "# Specify the path to the shapefile\n",
    "shapefile_path = '../_data/shapefile/map_municipalities.shp'\n",
    "\n",
    "# Read the shapefile\n",
    "gdf = gpd.read_file(shapefile_path)\n",
    "\n",
    "# chosen variables\n",
    "predictors = ['urbanization_rate',\n",
    "                'installations_network_gas',\n",
    "                'library_readers_per_1000_persons',\n",
    "                'forests_area',\n",
    "                'unemployment_rate_f',\n",
    "                'revenues_per_capita_PIT',\n",
    "                'net_scholarization',\n",
    "                'education_share_secondary',\n",
    "                'tourits_per_1000_persons',\n",
    "                'percent_population_over_60',\n",
    "                'election_presence',\n",
    "                'percent_invalid_votes',\n",
    "                'PIS_party',\n",
    "                'KO_party',\n",
    "                'PSL_party',\n",
    "                'SLD_party']\n",
    "\n",
    "# list of models\n",
    "SAR_models = []\n",
    "in_sample_rmse = []\n",
    "out_of_sample_rmse = []\n",
    "\n",
    "for voivodeship_code in [\"02\", \"04\", \"06\", \"08\", \"10\", \"12\", \"14\", \"16\", \"18\", \"20\", \"22\", \"24\", \"26\", \"28\", \"30\",\"32\"]:\n",
    "    print(f\"current voivodeship: {voivodeship_code}\")\n",
    "    # Train and test datasets \n",
    "    db_train = db[db[\"municipality_code_str\"].str[0:2] != voivodeship_code]\n",
    "    db_test = db[db[\"municipality_code_str\"].str[0:2] == voivodeship_code]\n",
    "    # drop\n",
    "    db_train.drop(columns=[\"municipality_code_str\"], inplace=True)\n",
    "    db_test.drop(columns=[\"municipality_code_str\"], inplace=True)\n",
    "    print(\"db\",db_train.shape, db_test.shape)\n",
    "\n",
    "    # Train and test datasets\n",
    "    gdf_train = gdf[gdf[\"mncplty_c\"].str[0:2] != voivodeship_code]\n",
    "    gdf_test = gdf[gdf[\"mncplty_c\"].str[0:2] == voivodeship_code]\n",
    "    print(\"gdf\", gdf_train.shape, gdf_test.shape)\n",
    "\n",
    "    # Create a spatial weights object\n",
    "    w = Queen.from_dataframe(gdf_train)\n",
    "    ds_name = \"municipalities_train\"\n",
    "    y_name = \"percent_vaccinated_log\"\n",
    "    y = db_train[y_name].values\n",
    "    y.shape = (len(y),1)\n",
    "    x_names = predictors\n",
    "    x = db_train[x_names].values\n",
    "    w_name = \"border_contiguity\"\n",
    "    w.transform = 'r'\n",
    "    mllag = ML_Lag(y,x,w,name_y=y_name,name_x=x_names,name_w=w_name,name_ds=ds_name,vm=True, latex=True)\n",
    "    # append model\n",
    "    SAR_models.append(mllag)\n",
    "    # append in-sample RMSE\n",
    "    y = db_train[y_name].values\n",
    "    rmse = np.sqrt(np.sum((y - mllag.predy)**2)/len(y))\n",
    "    in_sample_rmse.append(rmse)\n",
    "    # append out-of-sample RMSE\n",
    "    # Prepare y_test\n",
    "    y_test = db_test[\"percent_vaccinated_log\"].values\n",
    "    # Create a spatial weights object\n",
    "    w = Queen.from_dataframe(gdf_test)\n",
    "    # Calcualte Wy\n",
    "    w_array = w.to_sparse().toarray()\n",
    "    row_sums = w_array.sum(axis=1)\n",
    "    w_array_normalized = w_array / row_sums[:, np.newaxis]\n",
    "    Wy = np.dot(w_array_normalized, y_test)\n",
    "    # Calculate y_pred\n",
    "    y_pred = mllag.betas[0] + np.dot(db_test[x_names].values,mllag.betas[1:-1]) + mllag.betas[-1]*Wy\n",
    "    # Calculate RMSE\n",
    "    rmse = np.sqrt(np.sum((y_test - y_pred)**2)/len(y_test))\n",
    "    out_of_sample_rmse.append(rmse)\n",
    "\n",
    "    "
   ]
  },
  {
   "cell_type": "code",
   "execution_count": 347,
   "metadata": {},
   "outputs": [],
   "source": [
    "# save lists to gzip pickle\n",
    "import gzip\n",
    "import pickle\n",
    "with gzip.open('SAR_models.pkl', 'wb') as f:\n",
    "    pickle.dump(SAR_models, f)\n",
    "with gzip.open('SAR_in_sample_rmse.pkl', 'wb') as f:\n",
    "    pickle.dump(in_sample_rmse, f)\n",
    "with gzip.open('SAR_out_of_sample_rmse.pkl', 'wb') as f:\n",
    "    pickle.dump(out_of_sample_rmse, f)\n"
   ]
  },
  {
   "cell_type": "code",
   "execution_count": 342,
   "metadata": {},
   "outputs": [
    {
     "data": {
      "text/plain": [
       "['CONSTANT',\n",
       " 'urbanization_rate',\n",
       " 'installations_network_gas',\n",
       " 'library_readers_per_1000_persons',\n",
       " 'forests_area',\n",
       " 'unemployment_rate_f',\n",
       " 'revenues_per_capita_PIT',\n",
       " 'net_scholarization',\n",
       " 'education_share_secondary',\n",
       " 'tourits_per_1000_persons',\n",
       " 'percent_population_over_60',\n",
       " 'election_presence',\n",
       " 'percent_invalid_votes',\n",
       " 'PIS_party',\n",
       " 'KO_party',\n",
       " 'PSL_party',\n",
       " 'SLD_party',\n",
       " 'W_percent_vaccinated_log']"
      ]
     },
     "execution_count": 342,
     "metadata": {},
     "output_type": "execute_result"
    }
   ],
   "source": [
    "mllag.name_x"
   ]
  },
  {
   "cell_type": "markdown",
   "metadata": {},
   "source": [
    "# SDM"
   ]
  },
  {
   "cell_type": "markdown",
   "metadata": {},
   "source": [
    "## In-sample"
   ]
  },
  {
   "cell_type": "code",
   "execution_count": 338,
   "metadata": {},
   "outputs": [
    {
     "name": "stderr",
     "output_type": "stream",
     "text": [
      "/tmp/ipykernel_343002/163918878.py:2: FutureWarning: `use_index` defaults to False but will default to True in future. Set True/False directly to control this behavior and silence this warning\n",
      "  w = Queen.from_dataframe(gdf_train)\n"
     ]
    },
    {
     "name": "stdout",
     "output_type": "stream",
     "text": [
      "Warning: Latex output not implemented yet. Using standard output instead.\n"
     ]
    }
   ],
   "source": [
    "# Create a spatial weights object\n",
    "w = Queen.from_dataframe(gdf_train)\n",
    "ds_name = \"municipalities_train\"\n",
    "y_name = \"percent_vaccinated_log\"\n",
    "y = db_train[y_name].values\n",
    "y.shape = (len(y),1)\n",
    "x_names = db_train.columns.to_list()\n",
    "x_names.remove(\"percent_vaccinated\")\n",
    "x_names.remove(\"percent_vaccinated_log\")\n",
    "x_names.remove(\"county_code\")\n",
    "x_names.remove(\"county_name\")\n",
    "x_names.remove(\"voivodeship\")\n",
    "x_names.remove(\"municipality_code_old\")\n",
    "x_names.remove(\"municipality_code\")\n",
    "x_names.remove(\"municipality_name\")\n",
    "# General to specific model selection\n",
    "x_names.remove(\"population_total_f\")\n",
    "x_names.remove(\"partition_austrian\")\n",
    "x_names.remove(\"KONFEDERACJA_party\")\n",
    "x_names.remove(\"education_share_primary\")\n",
    "x_names.remove(\"percent_population_below_25\")\n",
    "x_names.remove(\"persons_per_library\")\n",
    "x_names.remove(\"revenues_per_capita_CIT\")\n",
    "x_names.remove(\"revenues_per_capita\")\n",
    "x_names.remove(\"appartments_per_1000_persons\")\n",
    "x_names.remove(\"education_share_higher\")\n",
    "x_names.remove(\"average_wage_relative\")\n",
    "x_names.remove(\"unemployment_rate_m\")\n",
    "x_names.remove(\"education_share_secondary\")\n",
    "x_names.remove(\"education_share_vocational\")\n",
    "x_names.remove(\"population_total_m\")\n",
    "x_names.remove(\"population_per_pharmacy\")\n",
    "x_names.remove(\"population_total\")\n",
    "x_names.remove(\"unemployment_rate\")\n",
    "x_names.remove(\"unemployment_rate_f\")\n",
    "x_names.remove(\"doctors_per_1000_persons\")\n",
    "x_names.remove(\"partition_prussian\")\n",
    "x_names.remove(\"tourits_per_1000_persons\")\n",
    "x_names.remove(\"PIS_party\")\n",
    "x_names.remove(\"partition_russian\")\n",
    "x_names.remove(\"urbanization_rate\")\n",
    "x = db_train[x_names].values\n",
    "w_name = \"border_contiguity\"\n",
    "w.transform = 'r'\n",
    "mllag_SDM = ML_Lag(y,x,w,slx_lags=1,name_y=y_name,name_x=x_names,name_w=w_name,name_ds=ds_name,vm=True, latex=True) \n"
   ]
  },
  {
   "cell_type": "code",
   "execution_count": 335,
   "metadata": {},
   "outputs": [
    {
     "name": "stdout",
     "output_type": "stream",
     "text": [
      "REGRESSION RESULTS\n",
      "------------------\n",
      "\n",
      "SUMMARY OF OUTPUT: MAXIMUM LIKELIHOOD SPATIAL LAG WITH SLX - SPATIAL DURBIN MODEL (METHOD = FULL)\n",
      "-------------------------------------------------------------------------------------------------\n",
      "Data set            :municipalities_train\n",
      "Weights matrix      :border_contiguity\n",
      "Dependent Variable  :percent_vaccinated_log                Number of Observations:        2251\n",
      "Mean dependent var  :      0.0650                Number of Variables   :          32\n",
      "S.D. dependent var  :      0.3194                Degrees of Freedom    :        2219\n",
      "Pseudo R-squared    :      0.8529\n",
      "Spatial Pseudo R-squared:  0.7237\n",
      "Log likelihood      :   1378.2272\n",
      "Sigma-square ML     :      0.0151                Akaike info criterion :   -2692.454\n",
      "S.E of regression   :      0.1228                Schwarz criterion     :   -2509.442\n",
      "\n",
      "------------------------------------------------------------------------------------\n",
      "            Variable     Coefficient       Std.Error     z-Statistic     Probability\n",
      "------------------------------------------------------------------------------------\n",
      "            CONSTANT        -0.30840         0.21556        -1.43068         0.15252\n",
      "            area_km2        -0.00013         0.00005        -2.65289         0.00798\n",
      "  population_density        -0.00003         0.00001        -2.65055         0.00804\n",
      "  healthcare_advices         0.00000         0.00000         2.94290         0.00325\n",
      "installations_network_gas        -0.00035         0.00015        -2.28479         0.02233\n",
      "library_readers_per_1000_persons         0.00016         0.00006         2.77569         0.00551\n",
      "        forests_area        -0.00002         0.00000        -4.03669         0.00005\n",
      "revenues_per_capita_PIT         0.00006         0.00001         4.02169         0.00006\n",
      "  net_scholarization         0.00075         0.00024         3.19119         0.00142\n",
      "percent_population_25_60         0.01644         0.00284         5.79266         0.00000\n",
      "percent_population_over_60         0.03135         0.00198        15.80878         0.00000\n",
      "   election_presence         0.01077         0.00092        11.70822         0.00000\n",
      "percent_invalid_votes         0.01839         0.00667         2.75579         0.00586\n",
      "            KO_party         0.00784         0.00074        10.64005         0.00000\n",
      "           PSL_party         0.00668         0.00076         8.77250         0.00000\n",
      "           SLD_party         0.00802         0.00133         6.02208         0.00000\n",
      "          W_area_km2         0.00001         0.00007         0.13657         0.89137\n",
      "W_population_density         0.00000         0.00002         0.16360         0.87005\n",
      "W_healthcare_advices         0.00000         0.00000         2.21217         0.02695\n",
      "W_installations_network_gas        -0.00026         0.00021        -1.27855         0.20105\n",
      "W_library_readers_per_1000_persons        -0.00023         0.00011        -2.02592         0.04277\n",
      "      W_forests_area        -0.00000         0.00001        -0.61877         0.53607\n",
      "W_revenues_per_capita_PIT         0.00002         0.00002         0.80037         0.42350\n",
      "W_net_scholarization        -0.00049         0.00047        -1.05780         0.29014\n",
      "W_percent_population_25_60        -0.02136         0.00389        -5.48491         0.00000\n",
      "W_percent_population_over_60        -0.02589         0.00262        -9.89760         0.00000\n",
      " W_election_presence        -0.00572         0.00137        -4.18654         0.00003\n",
      "W_percent_invalid_votes         0.03099         0.01147         2.70304         0.00687\n",
      "          W_KO_party        -0.00593         0.00096        -6.15696         0.00000\n",
      "         W_PSL_party        -0.00164         0.00118        -1.39333         0.16352\n",
      "         W_SLD_party        -0.00380         0.00193        -1.97434         0.04834\n",
      "W_percent_vaccinated_log         0.74403         0.01679        44.32093         0.00000\n",
      "------------------------------------------------------------------------------------\n",
      "\n",
      "COEFFICIENTS VARIANCE MATRIX\n",
      "----------------------------\n",
      "    CONSTANT    area_km2population_densityhealthcare_advicesinstallations_network_gaslibrary_readers_per_1000_personsforests_arearevenues_per_capita_PITnet_scholarizationpercent_population_25_60percent_population_over_60election_presencepercent_invalid_votes    KO_party   PSL_party   SLD_party  W_area_km2W_population_densityW_healthcare_advicesW_installations_network_gasW_library_readers_per_1000_personsW_forests_areaW_revenues_per_capita_PITW_net_scholarizationW_percent_population_25_60W_percent_population_over_60W_election_presenceW_percent_invalid_votes  W_KO_party W_PSL_party W_SLD_partyW_percent_vaccinated_log\n",
      "    0.046466   -0.000000   -0.000000    0.000000    0.000000   -0.000000   -0.000000    0.000000   -0.000003   -0.000067   -0.000023   -0.000020   -0.000119    0.000000   -0.000005    0.000005   -0.000002   -0.000000    0.000000    0.000005    0.000000   -0.000000    0.000001   -0.000011   -0.000525   -0.000168   -0.000130   -0.000621   -0.000009   -0.000044    0.000045    0.000451\n",
      "   -0.000000    0.000000    0.000000   -0.000000   -0.000000    0.000000   -0.000000   -0.000000    0.000000    0.000000    0.000000    0.000000    0.000000   -0.000000   -0.000000   -0.000000   -0.000000   -0.000000    0.000000    0.000000    0.000000    0.000000    0.000000   -0.000000   -0.000000   -0.000000   -0.000000   -0.000000    0.000000    0.000000   -0.000000    0.000000\n",
      "   -0.000000    0.000000    0.000000   -0.000000   -0.000000   -0.000000   -0.000000    0.000000   -0.000000   -0.000000   -0.000000    0.000000    0.000000   -0.000000   -0.000000   -0.000000   -0.000000   -0.000000    0.000000    0.000000    0.000000    0.000000   -0.000000    0.000000    0.000000    0.000000   -0.000000    0.000000    0.000000   -0.000000    0.000000   -0.000000\n",
      "    0.000000   -0.000000   -0.000000    0.000000    0.000000   -0.000000   -0.000000   -0.000000    0.000000   -0.000000   -0.000000   -0.000000   -0.000000    0.000000    0.000000    0.000000    0.000000    0.000000    0.000000   -0.000000   -0.000000    0.000000    0.000000   -0.000000    0.000000    0.000000    0.000000    0.000000   -0.000000   -0.000000    0.000000   -0.000000\n",
      "    0.000000   -0.000000   -0.000000    0.000000    0.000000    0.000000    0.000000   -0.000000   -0.000000    0.000000   -0.000000   -0.000000    0.000000   -0.000000   -0.000000   -0.000000    0.000000    0.000000   -0.000000   -0.000000   -0.000000    0.000000   -0.000000    0.000000   -0.000000    0.000000    0.000000   -0.000000    0.000000    0.000000    0.000000    0.000000\n",
      "   -0.000000    0.000000   -0.000000   -0.000000    0.000000    0.000000    0.000000   -0.000000   -0.000000   -0.000000   -0.000000    0.000000    0.000000   -0.000000   -0.000000    0.000000    0.000000    0.000000    0.000000   -0.000000   -0.000000   -0.000000    0.000000   -0.000000    0.000000    0.000000   -0.000000   -0.000000    0.000000    0.000000    0.000000    0.000000\n",
      "   -0.000000   -0.000000   -0.000000   -0.000000    0.000000    0.000000    0.000000    0.000000    0.000000    0.000000   -0.000000   -0.000000    0.000000    0.000000    0.000000    0.000000    0.000000    0.000000    0.000000    0.000000   -0.000000   -0.000000   -0.000000   -0.000000    0.000000    0.000000    0.000000   -0.000000   -0.000000    0.000000   -0.000000    0.000000\n",
      "    0.000000   -0.000000    0.000000   -0.000000   -0.000000   -0.000000    0.000000    0.000000   -0.000000   -0.000000   -0.000000   -0.000000    0.000000   -0.000000   -0.000000   -0.000000    0.000000   -0.000000   -0.000000    0.000000    0.000000   -0.000000   -0.000000    0.000000    0.000000    0.000000    0.000000    0.000000    0.000000    0.000000    0.000000   -0.000000\n",
      "   -0.000003    0.000000   -0.000000    0.000000   -0.000000   -0.000000    0.000000   -0.000000    0.000000   -0.000000   -0.000000   -0.000000   -0.000000    0.000000    0.000000   -0.000000    0.000000    0.000000   -0.000000   -0.000000    0.000000   -0.000000   -0.000000    0.000000    0.000000    0.000000    0.000000    0.000000   -0.000000   -0.000000    0.000000   -0.000000\n",
      "   -0.000067    0.000000   -0.000000   -0.000000    0.000000   -0.000000    0.000000   -0.000000   -0.000000    0.000008    0.000003    0.000000    0.000001   -0.000000   -0.000000   -0.000001   -0.000000    0.000000    0.000000   -0.000000    0.000000    0.000000    0.000000    0.000000   -0.000007   -0.000003   -0.000000    0.000000    0.000000    0.000000    0.000001    0.000001\n",
      "   -0.000023    0.000000   -0.000000   -0.000000   -0.000000   -0.000000   -0.000000   -0.000000   -0.000000    0.000003    0.000004    0.000000    0.000001   -0.000000   -0.000000   -0.000001   -0.000000    0.000000    0.000000    0.000000    0.000000    0.000000   -0.000000    0.000000   -0.000003   -0.000004   -0.000000   -0.000000    0.000000    0.000000    0.000001    0.000000\n",
      "   -0.000020    0.000000    0.000000   -0.000000   -0.000000    0.000000   -0.000000   -0.000000   -0.000000    0.000000    0.000000    0.000001    0.000002   -0.000000   -0.000000   -0.000000   -0.000000   -0.000000    0.000000    0.000000   -0.000000    0.000000    0.000000    0.000000   -0.000000   -0.000000   -0.000001   -0.000001    0.000000    0.000000   -0.000000   -0.000000\n",
      "   -0.000119    0.000000    0.000000   -0.000000    0.000000    0.000000    0.000000    0.000000   -0.000000    0.000001    0.000001    0.000002    0.000045    0.000000   -0.000001    0.000000   -0.000000    0.000000   -0.000000   -0.000000   -0.000000   -0.000000    0.000000    0.000000   -0.000000    0.000000   -0.000001   -0.000028   -0.000000    0.000001   -0.000001   -0.000007\n",
      "    0.000000   -0.000000   -0.000000    0.000000   -0.000000   -0.000000    0.000000   -0.000000    0.000000   -0.000000   -0.000000   -0.000000    0.000000    0.000001    0.000000   -0.000000    0.000000   -0.000000   -0.000000    0.000000    0.000000   -0.000000    0.000000   -0.000000    0.000000    0.000000    0.000000   -0.000000   -0.000001   -0.000000    0.000000    0.000000\n",
      "   -0.000005   -0.000000   -0.000000    0.000000   -0.000000   -0.000000    0.000000   -0.000000    0.000000   -0.000000   -0.000000   -0.000000   -0.000001    0.000000    0.000001    0.000000    0.000000   -0.000000   -0.000000    0.000000    0.000000   -0.000000    0.000000   -0.000000    0.000000    0.000000    0.000000    0.000000   -0.000000   -0.000001   -0.000000   -0.000000\n",
      "    0.000005   -0.000000   -0.000000    0.000000   -0.000000    0.000000    0.000000   -0.000000   -0.000000   -0.000001   -0.000001   -0.000000    0.000000   -0.000000    0.000000    0.000002    0.000000    0.000000    0.000000    0.000000   -0.000000   -0.000000    0.000000    0.000000    0.000001    0.000001    0.000000   -0.000000    0.000000   -0.000000   -0.000002   -0.000000\n",
      "   -0.000002   -0.000000   -0.000000    0.000000    0.000000    0.000000    0.000000    0.000000    0.000000   -0.000000   -0.000000   -0.000000   -0.000000    0.000000    0.000000    0.000000    0.000000    0.000000   -0.000000   -0.000000    0.000000   -0.000000   -0.000000    0.000000    0.000000    0.000000    0.000000   -0.000000   -0.000000   -0.000000   -0.000000    0.000000\n",
      "   -0.000000   -0.000000   -0.000000    0.000000    0.000000    0.000000    0.000000   -0.000000    0.000000    0.000000    0.000000   -0.000000    0.000000   -0.000000   -0.000000    0.000000    0.000000    0.000000   -0.000000   -0.000000   -0.000000   -0.000000   -0.000000   -0.000000    0.000000   -0.000000    0.000000    0.000000   -0.000000    0.000000    0.000000    0.000000\n",
      "    0.000000    0.000000    0.000000    0.000000   -0.000000    0.000000    0.000000   -0.000000   -0.000000    0.000000    0.000000    0.000000   -0.000000   -0.000000   -0.000000    0.000000   -0.000000   -0.000000    0.000000    0.000000   -0.000000   -0.000000   -0.000000    0.000000   -0.000000   -0.000000   -0.000000    0.000000    0.000000    0.000000    0.000000   -0.000000\n",
      "    0.000005    0.000000    0.000000   -0.000000   -0.000000   -0.000000    0.000000    0.000000   -0.000000   -0.000000    0.000000    0.000000   -0.000000    0.000000    0.000000    0.000000   -0.000000   -0.000000    0.000000    0.000000   -0.000000    0.000000    0.000000   -0.000000   -0.000000   -0.000000   -0.000000    0.000000   -0.000000    0.000000   -0.000000    0.000001\n",
      "    0.000000    0.000000    0.000000   -0.000000   -0.000000   -0.000000   -0.000000    0.000000    0.000000    0.000000    0.000000   -0.000000   -0.000000    0.000000    0.000000   -0.000000    0.000000   -0.000000   -0.000000   -0.000000    0.000000   -0.000000    0.000000   -0.000000   -0.000000   -0.000000    0.000000    0.000000   -0.000000   -0.000000    0.000000    0.000000\n",
      "   -0.000000    0.000000    0.000000    0.000000    0.000000   -0.000000   -0.000000   -0.000000   -0.000000    0.000000    0.000000    0.000000   -0.000000   -0.000000   -0.000000   -0.000000   -0.000000   -0.000000   -0.000000    0.000000   -0.000000    0.000000    0.000000    0.000000    0.000000   -0.000000   -0.000000    0.000000    0.000000    0.000000    0.000000    0.000000\n",
      "    0.000001    0.000000   -0.000000    0.000000   -0.000000    0.000000   -0.000000   -0.000000   -0.000000    0.000000   -0.000000    0.000000    0.000000    0.000000    0.000000    0.000000   -0.000000   -0.000000   -0.000000    0.000000    0.000000    0.000000    0.000000   -0.000000   -0.000000    0.000000   -0.000000    0.000000   -0.000000   -0.000000   -0.000000   -0.000000\n",
      "   -0.000011   -0.000000    0.000000   -0.000000    0.000000   -0.000000   -0.000000    0.000000    0.000000    0.000000    0.000000    0.000000    0.000000   -0.000000   -0.000000    0.000000    0.000000   -0.000000    0.000000   -0.000000   -0.000000    0.000000   -0.000000    0.000000   -0.000000   -0.000000   -0.000000   -0.000000    0.000000    0.000000    0.000000   -0.000000\n",
      "   -0.000525   -0.000000    0.000000    0.000000   -0.000000    0.000000    0.000000    0.000000    0.000000   -0.000007   -0.000003   -0.000000   -0.000000    0.000000    0.000000    0.000001    0.000000    0.000000   -0.000000   -0.000000   -0.000000    0.000000   -0.000000   -0.000000    0.000015    0.000004    0.000001    0.000002   -0.000000    0.000000   -0.000001    0.000002\n",
      "   -0.000168   -0.000000    0.000000    0.000000    0.000000    0.000000    0.000000    0.000000    0.000000   -0.000003   -0.000004   -0.000000    0.000000    0.000000    0.000000    0.000001    0.000000   -0.000000   -0.000000   -0.000000   -0.000000   -0.000000    0.000000   -0.000000    0.000004    0.000007    0.000001    0.000006   -0.000000   -0.000000   -0.000001   -0.000006\n",
      "   -0.000130   -0.000000   -0.000000    0.000000    0.000000   -0.000000    0.000000    0.000000    0.000000   -0.000000   -0.000000   -0.000001   -0.000001    0.000000    0.000000    0.000000    0.000000    0.000000   -0.000000   -0.000000    0.000000   -0.000000   -0.000000   -0.000000    0.000001    0.000001    0.000002    0.000006    0.000000    0.000000   -0.000000   -0.000005\n",
      "   -0.000621   -0.000000    0.000000    0.000000   -0.000000   -0.000000   -0.000000    0.000000    0.000000    0.000000   -0.000000   -0.000001   -0.000028   -0.000000    0.000000   -0.000000   -0.000000    0.000000    0.000000    0.000000    0.000000    0.000000    0.000000   -0.000000    0.000002    0.000006    0.000006    0.000131    0.000000   -0.000002   -0.000002   -0.000034\n",
      "   -0.000009    0.000000    0.000000   -0.000000    0.000000    0.000000   -0.000000    0.000000   -0.000000    0.000000    0.000000    0.000000   -0.000000   -0.000001   -0.000000    0.000000   -0.000000   -0.000000    0.000000   -0.000000   -0.000000    0.000000   -0.000000    0.000000   -0.000000   -0.000000    0.000000    0.000000    0.000001    0.000000   -0.000001   -0.000002\n",
      "   -0.000044    0.000000   -0.000000   -0.000000    0.000000    0.000000    0.000000    0.000000   -0.000000    0.000000    0.000000    0.000000    0.000001   -0.000000   -0.000001   -0.000000   -0.000000    0.000000    0.000000    0.000000   -0.000000    0.000000   -0.000000    0.000000    0.000000   -0.000000    0.000000   -0.000002    0.000000    0.000001    0.000000   -0.000005\n",
      "    0.000045   -0.000000    0.000000    0.000000    0.000000    0.000000   -0.000000    0.000000    0.000000    0.000001    0.000001   -0.000000   -0.000001    0.000000   -0.000000   -0.000002   -0.000000    0.000000    0.000000   -0.000000    0.000000    0.000000   -0.000000    0.000000   -0.000001   -0.000001   -0.000000   -0.000002   -0.000001    0.000000    0.000004   -0.000005\n",
      "    0.000451    0.000000   -0.000000   -0.000000    0.000000    0.000000    0.000000   -0.000000   -0.000000    0.000001    0.000000   -0.000000   -0.000007    0.000000   -0.000000   -0.000000    0.000000    0.000000   -0.000000    0.000001    0.000000    0.000000   -0.000000   -0.000000    0.000002   -0.000006   -0.000005   -0.000034   -0.000002   -0.000005   -0.000005    0.000282\n",
      "================================ END OF REPORT =====================================\n"
     ]
    }
   ],
   "source": [
    "print(mllag_SDM.summary)"
   ]
  },
  {
   "cell_type": "markdown",
   "metadata": {},
   "source": [
    "## RMSE in-sample"
   ]
  },
  {
   "cell_type": "code",
   "execution_count": 336,
   "metadata": {},
   "outputs": [
    {
     "name": "stdout",
     "output_type": "stream",
     "text": [
      "0.12278878733040159\n"
     ]
    }
   ],
   "source": [
    "y_name = \"percent_vaccinated_log\"\n",
    "y = db_train[y_name].values\n",
    "rmse = np.sqrt(np.sum((y - mllag_SDM.predy)**2)/len(y))\n",
    "print(rmse)"
   ]
  },
  {
   "cell_type": "markdown",
   "metadata": {},
   "source": [
    "## On test dataset"
   ]
  },
  {
   "cell_type": "code",
   "execution_count": 341,
   "metadata": {},
   "outputs": [
    {
     "name": "stdout",
     "output_type": "stream",
     "text": [
      "3.56667798949035\n"
     ]
    },
    {
     "name": "stderr",
     "output_type": "stream",
     "text": [
      "/tmp/ipykernel_343002/1902786663.py:5: FutureWarning: `use_index` defaults to False but will default to True in future. Set True/False directly to control this behavior and silence this warning\n",
      "  w = Queen.from_dataframe(gdf_test)\n"
     ]
    }
   ],
   "source": [
    "# Predict on the test dataset\n",
    "# Prepare y_test\n",
    "y_test = db_test[\"percent_vaccinated_log\"].values\n",
    "# Create a spatial weights object\n",
    "w = Queen.from_dataframe(gdf_test)\n",
    "# Calcualte Wy\n",
    "w_array = w.to_sparse().toarray()\n",
    "row_sums = w_array.sum(axis=1)\n",
    "w_array_normalized = w_array / row_sums[:, np.newaxis]\n",
    "Wy = np.dot(w_array_normalized, y_test)\n",
    "Wx = np.dot(w_array_normalized, db_test[x_names].values)\n",
    "# Calculate y_pred\n",
    "y_pred = mllag_SDM.betas[0] + np.dot(db_test[x_names].values,mllag_SDM.betas[1:-1][:15]) + mllag_SDM.betas[-1]*Wy + np.dot(Wx, mllag_SDM.betas[1:-1][15:])\n",
    "# Calculate RMSE\n",
    "rmse = np.sqrt(np.sum((y_test - y_pred)**2)/len(y_test))\n",
    "print(rmse)"
   ]
  },
  {
   "cell_type": "markdown",
   "metadata": {},
   "source": [
    "## Leave one out on all voivoidships"
   ]
  },
  {
   "cell_type": "code",
   "execution_count": 348,
   "metadata": {},
   "outputs": [
    {
     "name": "stdout",
     "output_type": "stream",
     "text": [
      "current voivodeship: 02\n",
      "db (2308, 48) (169, 48)\n",
      "gdf (2308, 3) (169, 3)\n"
     ]
    },
    {
     "name": "stderr",
     "output_type": "stream",
     "text": [
      "/tmp/ipykernel_343002/824467191.py:45: SettingWithCopyWarning: \n",
      "A value is trying to be set on a copy of a slice from a DataFrame\n",
      "\n",
      "See the caveats in the documentation: https://pandas.pydata.org/pandas-docs/stable/user_guide/indexing.html#returning-a-view-versus-a-copy\n",
      "  db_train.drop(columns=[\"municipality_code_str\"], inplace=True)\n",
      "/tmp/ipykernel_343002/824467191.py:46: SettingWithCopyWarning: \n",
      "A value is trying to be set on a copy of a slice from a DataFrame\n",
      "\n",
      "See the caveats in the documentation: https://pandas.pydata.org/pandas-docs/stable/user_guide/indexing.html#returning-a-view-versus-a-copy\n",
      "  db_test.drop(columns=[\"municipality_code_str\"], inplace=True)\n",
      "/tmp/ipykernel_343002/824467191.py:55: FutureWarning: `use_index` defaults to False but will default to True in future. Set True/False directly to control this behavior and silence this warning\n",
      "  w = Queen.from_dataframe(gdf_train)\n"
     ]
    },
    {
     "name": "stdout",
     "output_type": "stream",
     "text": [
      "Warning: Latex output not implemented yet. Using standard output instead.\n",
      "current voivodeship: 04\n",
      "db (2333, 48) (144, 48)\n",
      "gdf (2333, 3) (144, 3)\n"
     ]
    },
    {
     "name": "stderr",
     "output_type": "stream",
     "text": [
      "/tmp/ipykernel_343002/824467191.py:75: FutureWarning: `use_index` defaults to False but will default to True in future. Set True/False directly to control this behavior and silence this warning\n",
      "  w = Queen.from_dataframe(gdf_test)\n",
      "/tmp/ipykernel_343002/824467191.py:45: SettingWithCopyWarning: \n",
      "A value is trying to be set on a copy of a slice from a DataFrame\n",
      "\n",
      "See the caveats in the documentation: https://pandas.pydata.org/pandas-docs/stable/user_guide/indexing.html#returning-a-view-versus-a-copy\n",
      "  db_train.drop(columns=[\"municipality_code_str\"], inplace=True)\n",
      "/tmp/ipykernel_343002/824467191.py:46: SettingWithCopyWarning: \n",
      "A value is trying to be set on a copy of a slice from a DataFrame\n",
      "\n",
      "See the caveats in the documentation: https://pandas.pydata.org/pandas-docs/stable/user_guide/indexing.html#returning-a-view-versus-a-copy\n",
      "  db_test.drop(columns=[\"municipality_code_str\"], inplace=True)\n",
      "/tmp/ipykernel_343002/824467191.py:55: FutureWarning: `use_index` defaults to False but will default to True in future. Set True/False directly to control this behavior and silence this warning\n",
      "  w = Queen.from_dataframe(gdf_train)\n"
     ]
    },
    {
     "name": "stdout",
     "output_type": "stream",
     "text": [
      "Warning: Latex output not implemented yet. Using standard output instead.\n",
      "current voivodeship: 06\n",
      "db (2264, 48) (213, 48)\n",
      "gdf (2264, 3) (213, 3)\n"
     ]
    },
    {
     "name": "stderr",
     "output_type": "stream",
     "text": [
      "/tmp/ipykernel_343002/824467191.py:75: FutureWarning: `use_index` defaults to False but will default to True in future. Set True/False directly to control this behavior and silence this warning\n",
      "  w = Queen.from_dataframe(gdf_test)\n",
      "/tmp/ipykernel_343002/824467191.py:45: SettingWithCopyWarning: \n",
      "A value is trying to be set on a copy of a slice from a DataFrame\n",
      "\n",
      "See the caveats in the documentation: https://pandas.pydata.org/pandas-docs/stable/user_guide/indexing.html#returning-a-view-versus-a-copy\n",
      "  db_train.drop(columns=[\"municipality_code_str\"], inplace=True)\n",
      "/tmp/ipykernel_343002/824467191.py:46: SettingWithCopyWarning: \n",
      "A value is trying to be set on a copy of a slice from a DataFrame\n",
      "\n",
      "See the caveats in the documentation: https://pandas.pydata.org/pandas-docs/stable/user_guide/indexing.html#returning-a-view-versus-a-copy\n",
      "  db_test.drop(columns=[\"municipality_code_str\"], inplace=True)\n",
      "/tmp/ipykernel_343002/824467191.py:55: FutureWarning: `use_index` defaults to False but will default to True in future. Set True/False directly to control this behavior and silence this warning\n",
      "  w = Queen.from_dataframe(gdf_train)\n"
     ]
    },
    {
     "name": "stdout",
     "output_type": "stream",
     "text": [
      "Warning: Latex output not implemented yet. Using standard output instead.\n",
      "current voivodeship: 08\n",
      "db (2395, 48) (82, 48)\n",
      "gdf (2395, 3) (82, 3)\n"
     ]
    },
    {
     "name": "stderr",
     "output_type": "stream",
     "text": [
      "/tmp/ipykernel_343002/824467191.py:75: FutureWarning: `use_index` defaults to False but will default to True in future. Set True/False directly to control this behavior and silence this warning\n",
      "  w = Queen.from_dataframe(gdf_test)\n",
      "/tmp/ipykernel_343002/824467191.py:45: SettingWithCopyWarning: \n",
      "A value is trying to be set on a copy of a slice from a DataFrame\n",
      "\n",
      "See the caveats in the documentation: https://pandas.pydata.org/pandas-docs/stable/user_guide/indexing.html#returning-a-view-versus-a-copy\n",
      "  db_train.drop(columns=[\"municipality_code_str\"], inplace=True)\n",
      "/tmp/ipykernel_343002/824467191.py:46: SettingWithCopyWarning: \n",
      "A value is trying to be set on a copy of a slice from a DataFrame\n",
      "\n",
      "See the caveats in the documentation: https://pandas.pydata.org/pandas-docs/stable/user_guide/indexing.html#returning-a-view-versus-a-copy\n",
      "  db_test.drop(columns=[\"municipality_code_str\"], inplace=True)\n",
      "/tmp/ipykernel_343002/824467191.py:55: FutureWarning: `use_index` defaults to False but will default to True in future. Set True/False directly to control this behavior and silence this warning\n",
      "  w = Queen.from_dataframe(gdf_train)\n"
     ]
    },
    {
     "name": "stdout",
     "output_type": "stream",
     "text": [
      "Warning: Latex output not implemented yet. Using standard output instead.\n",
      "current voivodeship: 10\n",
      "db (2300, 48) (177, 48)\n",
      "gdf (2300, 3) (177, 3)\n"
     ]
    },
    {
     "name": "stderr",
     "output_type": "stream",
     "text": [
      "/tmp/ipykernel_343002/824467191.py:75: FutureWarning: `use_index` defaults to False but will default to True in future. Set True/False directly to control this behavior and silence this warning\n",
      "  w = Queen.from_dataframe(gdf_test)\n",
      "/tmp/ipykernel_343002/824467191.py:45: SettingWithCopyWarning: \n",
      "A value is trying to be set on a copy of a slice from a DataFrame\n",
      "\n",
      "See the caveats in the documentation: https://pandas.pydata.org/pandas-docs/stable/user_guide/indexing.html#returning-a-view-versus-a-copy\n",
      "  db_train.drop(columns=[\"municipality_code_str\"], inplace=True)\n",
      "/tmp/ipykernel_343002/824467191.py:46: SettingWithCopyWarning: \n",
      "A value is trying to be set on a copy of a slice from a DataFrame\n",
      "\n",
      "See the caveats in the documentation: https://pandas.pydata.org/pandas-docs/stable/user_guide/indexing.html#returning-a-view-versus-a-copy\n",
      "  db_test.drop(columns=[\"municipality_code_str\"], inplace=True)\n",
      "/tmp/ipykernel_343002/824467191.py:55: FutureWarning: `use_index` defaults to False but will default to True in future. Set True/False directly to control this behavior and silence this warning\n",
      "  w = Queen.from_dataframe(gdf_train)\n"
     ]
    },
    {
     "name": "stdout",
     "output_type": "stream",
     "text": [
      "Warning: Latex output not implemented yet. Using standard output instead.\n",
      "current voivodeship: 12\n",
      "db (2295, 48) (182, 48)\n",
      "gdf (2295, 3) (182, 3)\n"
     ]
    },
    {
     "name": "stderr",
     "output_type": "stream",
     "text": [
      "/tmp/ipykernel_343002/824467191.py:75: FutureWarning: `use_index` defaults to False but will default to True in future. Set True/False directly to control this behavior and silence this warning\n",
      "  w = Queen.from_dataframe(gdf_test)\n",
      "/tmp/ipykernel_343002/824467191.py:45: SettingWithCopyWarning: \n",
      "A value is trying to be set on a copy of a slice from a DataFrame\n",
      "\n",
      "See the caveats in the documentation: https://pandas.pydata.org/pandas-docs/stable/user_guide/indexing.html#returning-a-view-versus-a-copy\n",
      "  db_train.drop(columns=[\"municipality_code_str\"], inplace=True)\n",
      "/tmp/ipykernel_343002/824467191.py:46: SettingWithCopyWarning: \n",
      "A value is trying to be set on a copy of a slice from a DataFrame\n",
      "\n",
      "See the caveats in the documentation: https://pandas.pydata.org/pandas-docs/stable/user_guide/indexing.html#returning-a-view-versus-a-copy\n",
      "  db_test.drop(columns=[\"municipality_code_str\"], inplace=True)\n",
      "/tmp/ipykernel_343002/824467191.py:55: FutureWarning: `use_index` defaults to False but will default to True in future. Set True/False directly to control this behavior and silence this warning\n",
      "  w = Queen.from_dataframe(gdf_train)\n"
     ]
    },
    {
     "name": "stdout",
     "output_type": "stream",
     "text": [
      "Warning: Latex output not implemented yet. Using standard output instead.\n",
      "current voivodeship: 14\n",
      "db (2163, 48) (314, 48)\n",
      "gdf (2163, 3) (314, 3)\n"
     ]
    },
    {
     "name": "stderr",
     "output_type": "stream",
     "text": [
      "/tmp/ipykernel_343002/824467191.py:75: FutureWarning: `use_index` defaults to False but will default to True in future. Set True/False directly to control this behavior and silence this warning\n",
      "  w = Queen.from_dataframe(gdf_test)\n",
      "/tmp/ipykernel_343002/824467191.py:45: SettingWithCopyWarning: \n",
      "A value is trying to be set on a copy of a slice from a DataFrame\n",
      "\n",
      "See the caveats in the documentation: https://pandas.pydata.org/pandas-docs/stable/user_guide/indexing.html#returning-a-view-versus-a-copy\n",
      "  db_train.drop(columns=[\"municipality_code_str\"], inplace=True)\n",
      "/tmp/ipykernel_343002/824467191.py:46: SettingWithCopyWarning: \n",
      "A value is trying to be set on a copy of a slice from a DataFrame\n",
      "\n",
      "See the caveats in the documentation: https://pandas.pydata.org/pandas-docs/stable/user_guide/indexing.html#returning-a-view-versus-a-copy\n",
      "  db_test.drop(columns=[\"municipality_code_str\"], inplace=True)\n",
      "/tmp/ipykernel_343002/824467191.py:55: FutureWarning: `use_index` defaults to False but will default to True in future. Set True/False directly to control this behavior and silence this warning\n",
      "  w = Queen.from_dataframe(gdf_train)\n"
     ]
    },
    {
     "name": "stdout",
     "output_type": "stream",
     "text": [
      "Warning: Latex output not implemented yet. Using standard output instead.\n",
      "current voivodeship: 16\n"
     ]
    },
    {
     "name": "stderr",
     "output_type": "stream",
     "text": [
      "/tmp/ipykernel_343002/824467191.py:75: FutureWarning: `use_index` defaults to False but will default to True in future. Set True/False directly to control this behavior and silence this warning\n",
      "  w = Queen.from_dataframe(gdf_test)\n",
      "/tmp/ipykernel_343002/824467191.py:45: SettingWithCopyWarning: \n",
      "A value is trying to be set on a copy of a slice from a DataFrame\n",
      "\n",
      "See the caveats in the documentation: https://pandas.pydata.org/pandas-docs/stable/user_guide/indexing.html#returning-a-view-versus-a-copy\n",
      "  db_train.drop(columns=[\"municipality_code_str\"], inplace=True)\n",
      "/tmp/ipykernel_343002/824467191.py:46: SettingWithCopyWarning: \n",
      "A value is trying to be set on a copy of a slice from a DataFrame\n",
      "\n",
      "See the caveats in the documentation: https://pandas.pydata.org/pandas-docs/stable/user_guide/indexing.html#returning-a-view-versus-a-copy\n",
      "  db_test.drop(columns=[\"municipality_code_str\"], inplace=True)\n",
      "/tmp/ipykernel_343002/824467191.py:55: FutureWarning: `use_index` defaults to False but will default to True in future. Set True/False directly to control this behavior and silence this warning\n",
      "  w = Queen.from_dataframe(gdf_train)\n"
     ]
    },
    {
     "name": "stdout",
     "output_type": "stream",
     "text": [
      "db (2406, 48) (71, 48)\n",
      "gdf (2406, 3) (71, 3)\n",
      "Warning: Latex output not implemented yet. Using standard output instead.\n",
      "current voivodeship: 18\n",
      "db (2317, 48) (160, 48)\n",
      "gdf (2317, 3) (160, 3)\n"
     ]
    },
    {
     "name": "stderr",
     "output_type": "stream",
     "text": [
      "/tmp/ipykernel_343002/824467191.py:75: FutureWarning: `use_index` defaults to False but will default to True in future. Set True/False directly to control this behavior and silence this warning\n",
      "  w = Queen.from_dataframe(gdf_test)\n",
      "/tmp/ipykernel_343002/824467191.py:45: SettingWithCopyWarning: \n",
      "A value is trying to be set on a copy of a slice from a DataFrame\n",
      "\n",
      "See the caveats in the documentation: https://pandas.pydata.org/pandas-docs/stable/user_guide/indexing.html#returning-a-view-versus-a-copy\n",
      "  db_train.drop(columns=[\"municipality_code_str\"], inplace=True)\n",
      "/tmp/ipykernel_343002/824467191.py:46: SettingWithCopyWarning: \n",
      "A value is trying to be set on a copy of a slice from a DataFrame\n",
      "\n",
      "See the caveats in the documentation: https://pandas.pydata.org/pandas-docs/stable/user_guide/indexing.html#returning-a-view-versus-a-copy\n",
      "  db_test.drop(columns=[\"municipality_code_str\"], inplace=True)\n",
      "/tmp/ipykernel_343002/824467191.py:55: FutureWarning: `use_index` defaults to False but will default to True in future. Set True/False directly to control this behavior and silence this warning\n",
      "  w = Queen.from_dataframe(gdf_train)\n"
     ]
    },
    {
     "name": "stdout",
     "output_type": "stream",
     "text": [
      "Warning: Latex output not implemented yet. Using standard output instead.\n",
      "current voivodeship: 20\n",
      "db (2359, 48) (118, 48)\n",
      "gdf (2359, 3) (118, 3)\n"
     ]
    },
    {
     "name": "stderr",
     "output_type": "stream",
     "text": [
      "/tmp/ipykernel_343002/824467191.py:75: FutureWarning: `use_index` defaults to False but will default to True in future. Set True/False directly to control this behavior and silence this warning\n",
      "  w = Queen.from_dataframe(gdf_test)\n",
      "/tmp/ipykernel_343002/824467191.py:45: SettingWithCopyWarning: \n",
      "A value is trying to be set on a copy of a slice from a DataFrame\n",
      "\n",
      "See the caveats in the documentation: https://pandas.pydata.org/pandas-docs/stable/user_guide/indexing.html#returning-a-view-versus-a-copy\n",
      "  db_train.drop(columns=[\"municipality_code_str\"], inplace=True)\n",
      "/tmp/ipykernel_343002/824467191.py:46: SettingWithCopyWarning: \n",
      "A value is trying to be set on a copy of a slice from a DataFrame\n",
      "\n",
      "See the caveats in the documentation: https://pandas.pydata.org/pandas-docs/stable/user_guide/indexing.html#returning-a-view-versus-a-copy\n",
      "  db_test.drop(columns=[\"municipality_code_str\"], inplace=True)\n",
      "/tmp/ipykernel_343002/824467191.py:55: FutureWarning: `use_index` defaults to False but will default to True in future. Set True/False directly to control this behavior and silence this warning\n",
      "  w = Queen.from_dataframe(gdf_train)\n"
     ]
    },
    {
     "name": "stdout",
     "output_type": "stream",
     "text": [
      "Warning: Latex output not implemented yet. Using standard output instead.\n",
      "current voivodeship: 22\n",
      "db (2354, 48) (123, 48)\n",
      "gdf (2354, 3) (123, 3)\n"
     ]
    },
    {
     "name": "stderr",
     "output_type": "stream",
     "text": [
      "/tmp/ipykernel_343002/824467191.py:75: FutureWarning: `use_index` defaults to False but will default to True in future. Set True/False directly to control this behavior and silence this warning\n",
      "  w = Queen.from_dataframe(gdf_test)\n",
      "/tmp/ipykernel_343002/824467191.py:45: SettingWithCopyWarning: \n",
      "A value is trying to be set on a copy of a slice from a DataFrame\n",
      "\n",
      "See the caveats in the documentation: https://pandas.pydata.org/pandas-docs/stable/user_guide/indexing.html#returning-a-view-versus-a-copy\n",
      "  db_train.drop(columns=[\"municipality_code_str\"], inplace=True)\n",
      "/tmp/ipykernel_343002/824467191.py:46: SettingWithCopyWarning: \n",
      "A value is trying to be set on a copy of a slice from a DataFrame\n",
      "\n",
      "See the caveats in the documentation: https://pandas.pydata.org/pandas-docs/stable/user_guide/indexing.html#returning-a-view-versus-a-copy\n",
      "  db_test.drop(columns=[\"municipality_code_str\"], inplace=True)\n",
      "/tmp/ipykernel_343002/824467191.py:55: FutureWarning: `use_index` defaults to False but will default to True in future. Set True/False directly to control this behavior and silence this warning\n",
      "  w = Queen.from_dataframe(gdf_train)\n"
     ]
    },
    {
     "name": "stdout",
     "output_type": "stream",
     "text": [
      "Warning: Latex output not implemented yet. Using standard output instead.\n",
      "current voivodeship: 24\n",
      "db (2310, 48) (167, 48)\n",
      "gdf (2310, 3) (167, 3)\n"
     ]
    },
    {
     "name": "stderr",
     "output_type": "stream",
     "text": [
      "/tmp/ipykernel_343002/824467191.py:75: FutureWarning: `use_index` defaults to False but will default to True in future. Set True/False directly to control this behavior and silence this warning\n",
      "  w = Queen.from_dataframe(gdf_test)\n",
      "/tmp/ipykernel_343002/824467191.py:45: SettingWithCopyWarning: \n",
      "A value is trying to be set on a copy of a slice from a DataFrame\n",
      "\n",
      "See the caveats in the documentation: https://pandas.pydata.org/pandas-docs/stable/user_guide/indexing.html#returning-a-view-versus-a-copy\n",
      "  db_train.drop(columns=[\"municipality_code_str\"], inplace=True)\n",
      "/tmp/ipykernel_343002/824467191.py:46: SettingWithCopyWarning: \n",
      "A value is trying to be set on a copy of a slice from a DataFrame\n",
      "\n",
      "See the caveats in the documentation: https://pandas.pydata.org/pandas-docs/stable/user_guide/indexing.html#returning-a-view-versus-a-copy\n",
      "  db_test.drop(columns=[\"municipality_code_str\"], inplace=True)\n",
      "/tmp/ipykernel_343002/824467191.py:55: FutureWarning: `use_index` defaults to False but will default to True in future. Set True/False directly to control this behavior and silence this warning\n",
      "  w = Queen.from_dataframe(gdf_train)\n"
     ]
    },
    {
     "name": "stdout",
     "output_type": "stream",
     "text": [
      "Warning: Latex output not implemented yet. Using standard output instead.\n",
      "current voivodeship: 26\n",
      "db (2375, 48) (102, 48)\n",
      "gdf (2375, 3) (102, 3)\n"
     ]
    },
    {
     "name": "stderr",
     "output_type": "stream",
     "text": [
      "/tmp/ipykernel_343002/824467191.py:75: FutureWarning: `use_index` defaults to False but will default to True in future. Set True/False directly to control this behavior and silence this warning\n",
      "  w = Queen.from_dataframe(gdf_test)\n",
      "/tmp/ipykernel_343002/824467191.py:45: SettingWithCopyWarning: \n",
      "A value is trying to be set on a copy of a slice from a DataFrame\n",
      "\n",
      "See the caveats in the documentation: https://pandas.pydata.org/pandas-docs/stable/user_guide/indexing.html#returning-a-view-versus-a-copy\n",
      "  db_train.drop(columns=[\"municipality_code_str\"], inplace=True)\n",
      "/tmp/ipykernel_343002/824467191.py:46: SettingWithCopyWarning: \n",
      "A value is trying to be set on a copy of a slice from a DataFrame\n",
      "\n",
      "See the caveats in the documentation: https://pandas.pydata.org/pandas-docs/stable/user_guide/indexing.html#returning-a-view-versus-a-copy\n",
      "  db_test.drop(columns=[\"municipality_code_str\"], inplace=True)\n",
      "/tmp/ipykernel_343002/824467191.py:55: FutureWarning: `use_index` defaults to False but will default to True in future. Set True/False directly to control this behavior and silence this warning\n",
      "  w = Queen.from_dataframe(gdf_train)\n"
     ]
    },
    {
     "name": "stdout",
     "output_type": "stream",
     "text": [
      "Warning: Latex output not implemented yet. Using standard output instead.\n",
      "current voivodeship: 28\n",
      "db (2361, 48) (116, 48)\n",
      "gdf (2361, 3) (116, 3)\n"
     ]
    },
    {
     "name": "stderr",
     "output_type": "stream",
     "text": [
      "/tmp/ipykernel_343002/824467191.py:75: FutureWarning: `use_index` defaults to False but will default to True in future. Set True/False directly to control this behavior and silence this warning\n",
      "  w = Queen.from_dataframe(gdf_test)\n",
      "/tmp/ipykernel_343002/824467191.py:45: SettingWithCopyWarning: \n",
      "A value is trying to be set on a copy of a slice from a DataFrame\n",
      "\n",
      "See the caveats in the documentation: https://pandas.pydata.org/pandas-docs/stable/user_guide/indexing.html#returning-a-view-versus-a-copy\n",
      "  db_train.drop(columns=[\"municipality_code_str\"], inplace=True)\n",
      "/tmp/ipykernel_343002/824467191.py:46: SettingWithCopyWarning: \n",
      "A value is trying to be set on a copy of a slice from a DataFrame\n",
      "\n",
      "See the caveats in the documentation: https://pandas.pydata.org/pandas-docs/stable/user_guide/indexing.html#returning-a-view-versus-a-copy\n",
      "  db_test.drop(columns=[\"municipality_code_str\"], inplace=True)\n",
      "/tmp/ipykernel_343002/824467191.py:55: FutureWarning: `use_index` defaults to False but will default to True in future. Set True/False directly to control this behavior and silence this warning\n",
      "  w = Queen.from_dataframe(gdf_train)\n"
     ]
    },
    {
     "name": "stdout",
     "output_type": "stream",
     "text": [
      "Warning: Latex output not implemented yet. Using standard output instead.\n",
      "current voivodeship: 30\n",
      "db (2251, 48) (226, 48)\n",
      "gdf (2251, 3) (226, 3)\n"
     ]
    },
    {
     "name": "stderr",
     "output_type": "stream",
     "text": [
      "/tmp/ipykernel_343002/824467191.py:75: FutureWarning: `use_index` defaults to False but will default to True in future. Set True/False directly to control this behavior and silence this warning\n",
      "  w = Queen.from_dataframe(gdf_test)\n",
      "/tmp/ipykernel_343002/824467191.py:45: SettingWithCopyWarning: \n",
      "A value is trying to be set on a copy of a slice from a DataFrame\n",
      "\n",
      "See the caveats in the documentation: https://pandas.pydata.org/pandas-docs/stable/user_guide/indexing.html#returning-a-view-versus-a-copy\n",
      "  db_train.drop(columns=[\"municipality_code_str\"], inplace=True)\n",
      "/tmp/ipykernel_343002/824467191.py:46: SettingWithCopyWarning: \n",
      "A value is trying to be set on a copy of a slice from a DataFrame\n",
      "\n",
      "See the caveats in the documentation: https://pandas.pydata.org/pandas-docs/stable/user_guide/indexing.html#returning-a-view-versus-a-copy\n",
      "  db_test.drop(columns=[\"municipality_code_str\"], inplace=True)\n",
      "/tmp/ipykernel_343002/824467191.py:55: FutureWarning: `use_index` defaults to False but will default to True in future. Set True/False directly to control this behavior and silence this warning\n",
      "  w = Queen.from_dataframe(gdf_train)\n"
     ]
    },
    {
     "name": "stdout",
     "output_type": "stream",
     "text": [
      "Warning: Latex output not implemented yet. Using standard output instead.\n",
      "current voivodeship: 32\n",
      "db (2364, 48) (113, 48)\n",
      "gdf (2364, 3) (113, 3)\n"
     ]
    },
    {
     "name": "stderr",
     "output_type": "stream",
     "text": [
      "/tmp/ipykernel_343002/824467191.py:75: FutureWarning: `use_index` defaults to False but will default to True in future. Set True/False directly to control this behavior and silence this warning\n",
      "  w = Queen.from_dataframe(gdf_test)\n",
      "/tmp/ipykernel_343002/824467191.py:45: SettingWithCopyWarning: \n",
      "A value is trying to be set on a copy of a slice from a DataFrame\n",
      "\n",
      "See the caveats in the documentation: https://pandas.pydata.org/pandas-docs/stable/user_guide/indexing.html#returning-a-view-versus-a-copy\n",
      "  db_train.drop(columns=[\"municipality_code_str\"], inplace=True)\n",
      "/tmp/ipykernel_343002/824467191.py:46: SettingWithCopyWarning: \n",
      "A value is trying to be set on a copy of a slice from a DataFrame\n",
      "\n",
      "See the caveats in the documentation: https://pandas.pydata.org/pandas-docs/stable/user_guide/indexing.html#returning-a-view-versus-a-copy\n",
      "  db_test.drop(columns=[\"municipality_code_str\"], inplace=True)\n",
      "/tmp/ipykernel_343002/824467191.py:55: FutureWarning: `use_index` defaults to False but will default to True in future. Set True/False directly to control this behavior and silence this warning\n",
      "  w = Queen.from_dataframe(gdf_train)\n"
     ]
    },
    {
     "name": "stdout",
     "output_type": "stream",
     "text": [
      "Warning: Latex output not implemented yet. Using standard output instead.\n"
     ]
    },
    {
     "name": "stderr",
     "output_type": "stream",
     "text": [
      "/tmp/ipykernel_343002/824467191.py:75: FutureWarning: `use_index` defaults to False but will default to True in future. Set True/False directly to control this behavior and silence this warning\n",
      "  w = Queen.from_dataframe(gdf_test)\n"
     ]
    }
   ],
   "source": [
    "# Read in the data\n",
    "# db = libpysal.io.open(\"../_data/shapefile/map_municipalities.dbf\",\"r\")\n",
    "db = pd.read_csv('../_data/data_municipalities_final.csv')\n",
    "db[\"partition_austrian\"] = db[\"partition_austrian\"].astype(int)\n",
    "db[\"partition_prussian\"] = db[\"partition_prussian\"].astype(int)\n",
    "db[\"partition_russian\"] = db[\"partition_russian\"].astype(int)\n",
    "db[\"municipality_code_str\"] = db[\"municipality_code\"].astype(str)\n",
    "db.loc[:607, 'municipality_code_str'] = '0' + db.loc[:607, 'municipality_code'].astype(str)\n",
    "# Specify the path to the shapefile\n",
    "shapefile_path = '../_data/shapefile/map_municipalities.shp'\n",
    "\n",
    "# Read the shapefile\n",
    "gdf = gpd.read_file(shapefile_path)\n",
    "\n",
    "# chosen variables\n",
    "predictors = [\"area_km2\",\n",
    "                \"population_density\",\n",
    "                \"healthcare_advices\",\n",
    "                \"installations_network_gas\",\n",
    "                \"library_readers_per_1000_persons\",\n",
    "                \"forests_area\",\n",
    "                \"revenues_per_capita_PIT\",\n",
    "                \"net_scholarization\",\n",
    "                \"percent_population_25_60\",\n",
    "                \"percent_population_over_60\",\n",
    "                \"election_presence\",\n",
    "                \"percent_invalid_votes\",\n",
    "                \"KO_party\",\n",
    "                \"PSL_party\",\n",
    "                \"SLD_party\"]\n",
    "\n",
    "\n",
    "\n",
    "# list of models\n",
    "SDM_models = []\n",
    "in_sample_rmse = []\n",
    "out_of_sample_rmse = []\n",
    "\n",
    "for voivodeship_code in [\"02\", \"04\", \"06\", \"08\", \"10\", \"12\", \"14\", \"16\", \"18\", \"20\", \"22\", \"24\", \"26\", \"28\", \"30\",\"32\"]:\n",
    "    print(f\"current voivodeship: {voivodeship_code}\")\n",
    "    # Train and test datasets \n",
    "    db_train = db[db[\"municipality_code_str\"].str[0:2] != voivodeship_code]\n",
    "    db_test = db[db[\"municipality_code_str\"].str[0:2] == voivodeship_code]\n",
    "    # drop\n",
    "    db_train.drop(columns=[\"municipality_code_str\"], inplace=True)\n",
    "    db_test.drop(columns=[\"municipality_code_str\"], inplace=True)\n",
    "    print(\"db\",db_train.shape, db_test.shape)\n",
    "\n",
    "    # Train and test datasets\n",
    "    gdf_train = gdf[gdf[\"mncplty_c\"].str[0:2] != voivodeship_code]\n",
    "    gdf_test = gdf[gdf[\"mncplty_c\"].str[0:2] == voivodeship_code]\n",
    "    print(\"gdf\", gdf_train.shape, gdf_test.shape)\n",
    "\n",
    "    # Create a spatial weights object\n",
    "    w = Queen.from_dataframe(gdf_train)\n",
    "    ds_name = \"municipalities_train\"\n",
    "    y_name = \"percent_vaccinated_log\"\n",
    "    y = db_train[y_name].values\n",
    "    y.shape = (len(y),1)\n",
    "    x_names = predictors\n",
    "    x = db_train[x_names].values\n",
    "    w_name = \"border_contiguity\"\n",
    "    w.transform = 'r'\n",
    "    mllag = ML_Lag(y,x,w,slx_lags=1, name_y=y_name,name_x=x_names,name_w=w_name,name_ds=ds_name,vm=True, latex=True)\n",
    "    # append model\n",
    "    SDM_models.append(mllag)\n",
    "    # append in-sample RMSE\n",
    "    y = db_train[y_name].values\n",
    "    rmse = np.sqrt(np.sum((y - mllag.predy)**2)/len(y))\n",
    "    in_sample_rmse.append(rmse)\n",
    "    # append out-of-sample RMSE\n",
    "    # Prepare y_test\n",
    "    y_test = db_test[\"percent_vaccinated_log\"].values\n",
    "    # Create a spatial weights object\n",
    "    w = Queen.from_dataframe(gdf_test)\n",
    "    # Calcualte Wy and Wx\n",
    "    w_array = w.to_sparse().toarray()\n",
    "    row_sums = w_array.sum(axis=1)\n",
    "    w_array_normalized = w_array / row_sums[:, np.newaxis]\n",
    "    Wy = np.dot(w_array_normalized, y_test)\n",
    "    Wx = np.dot(w_array_normalized, db_test[x_names].values)\n",
    "    # Calculate y_pred\n",
    "    y_pred = mllag.betas[0] + np.dot(db_test[x_names].values,mllag.betas[1:-1][:15]) + mllag.betas[-1]*Wy + np.dot(Wx, mllag.betas[1:-1][15:])\n",
    "    # Calculate RMSE\n",
    "    rmse = np.sqrt(np.sum((y_test - y_pred)**2)/len(y_test))\n",
    "    out_of_sample_rmse.append(rmse)\n",
    "    \n",
    "    "
   ]
  },
  {
   "cell_type": "code",
   "execution_count": 349,
   "metadata": {},
   "outputs": [],
   "source": [
    "# save lists to gzip pickle\n",
    "import gzip\n",
    "import pickle\n",
    "with gzip.open('SDM_models.pkl', 'wb') as f:\n",
    "    pickle.dump(SDM_models, f)\n",
    "with gzip.open('SDM_in_sample_rmse.pkl', 'wb') as f:\n",
    "    pickle.dump(in_sample_rmse, f)\n",
    "with gzip.open('SDM_out_of_sample_rmse.pkl', 'wb') as f:\n",
    "    pickle.dump(out_of_sample_rmse, f)\n"
   ]
  },
  {
   "cell_type": "markdown",
   "metadata": {},
   "source": [
    "# Table with results"
   ]
  },
  {
   "cell_type": "code",
   "execution_count": 356,
   "metadata": {},
   "outputs": [],
   "source": [
    "# Load SAR model RMSE values\n",
    "with gzip.open('SAR_in_sample_rmse.pkl', 'rb') as file:\n",
    "    sar_in_sample_rmse = pickle.load(file)\n",
    "with gzip.open('SAR_out_of_sample_rmse.pkl', 'rb') as file:\n",
    "    sar_out_of_sample_rmse = pickle.load(file)\n",
    "\n",
    "# Load SDM model RMSE values\n",
    "with gzip.open('SDM_in_sample_rmse.pkl', 'rb') as file:\n",
    "    sdm_in_sample_rmse = pickle.load(file)\n",
    "with gzip.open('SDM_out_of_sample_rmse.pkl', 'rb') as file:\n",
    "    sdm_out_of_sample_rmse = pickle.load(file)\n",
    "\n",
    "sar_in_sample_rmse, sar_out_of_sample_rmse, sdm_in_sample_rmse, sdm_out_of_sample_rmse\n",
    "\n",
    "# Voivodeships\n",
    "voivodeships = [\"Dolnośląskie\", \"Kujawsko-Pomorskie\", \"Lubelskie\", \"Lubuskie\", \"Łódzkie\", \"Małopolskie\", \n",
    "                \"Mazowieckie\", \"Opolskie\", \"Podkarpackie\", \"Podlaskie\", \"Pomorskie\", \"Śląskie\", \"Świętokrzyskie\", \n",
    "                \"Warmińsko-Mazurskie\", \"Wielkopolskie\", \"Zachodniopomorskie\"]\n",
    "\n",
    "# Create a DataFrame\n",
    "df = pd.DataFrame({\"Voivodeship\": voivodeships, \n",
    "                   \"SAR_in_sample_rmse\": sar_in_sample_rmse,\n",
    "                   \"SAR_out_of_sample_rmse\": sar_out_of_sample_rmse,\n",
    "                   \"SDM_in_sample_rmse\": sdm_in_sample_rmse,\n",
    "                   \"SDM_out_of_sample_rmse\": sdm_out_of_sample_rmse})\n",
    "df.to_csv(\"SAR_SDM_model_comparison.csv\", index=False)\n",
    "df.to_latex(\"SAR_SDM_model_comparison.tex\", index=False)"
   ]
  }
 ],
 "metadata": {
  "kernelspec": {
   "display_name": ".venv",
   "language": "python",
   "name": "python3"
  },
  "language_info": {
   "codemirror_mode": {
    "name": "ipython",
    "version": 3
   },
   "file_extension": ".py",
   "mimetype": "text/x-python",
   "name": "python",
   "nbconvert_exporter": "python",
   "pygments_lexer": "ipython3",
   "version": "3.10.12"
  }
 },
 "nbformat": 4,
 "nbformat_minor": 2
}
